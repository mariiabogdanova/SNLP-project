{
  "cells": [
    {
      "cell_type": "markdown",
      "metadata": {
        "id": "2ptnbQcxZiJ7"
      },
      "source": [
        "Algorithm to transform document to embedding is SBERT\n",
        "Approach: SBERT transforms sentences to fixed size embedding\n",
        "Data = L90 \n",
        "\n",
        "Source: \n",
        "\n",
        "https://medium.com/analytics-vidhya/best-nlp-algorithms-to-get-document-similarity-a5559244b23b\n",
        "\n",
        "\n",
        "https://www.sbert.net/examples/applications/computing-embeddings/README.html\n",
        "\n"
      ]
    },
    {
      "cell_type": "code",
      "execution_count": 6,
      "metadata": {
        "colab": {
          "base_uri": "https://localhost:8080/"
        },
        "id": "QtRJpG06deIR",
        "outputId": "78a20aed-e482-4b8d-c6b9-9b932552422e"
      },
      "outputs": [
        {
          "name": "stdout",
          "output_type": "stream",
          "text": [
            "Requirement already satisfied: transformers in /usr/local/lib/python3.7/dist-packages (4.18.0)\n",
            "Requirement already satisfied: sentence_transformers in /usr/local/lib/python3.7/dist-packages (2.2.0)\n",
            "Requirement already satisfied: regex!=2019.12.17 in /usr/local/lib/python3.7/dist-packages (from transformers) (2019.12.20)\n",
            "Requirement already satisfied: packaging>=20.0 in /usr/local/lib/python3.7/dist-packages (from transformers) (21.3)\n",
            "Requirement already satisfied: tqdm>=4.27 in /usr/local/lib/python3.7/dist-packages (from transformers) (4.64.0)\n",
            "Requirement already satisfied: tokenizers!=0.11.3,<0.13,>=0.11.1 in /usr/local/lib/python3.7/dist-packages (from transformers) (0.12.1)\n",
            "Requirement already satisfied: importlib-metadata in /usr/local/lib/python3.7/dist-packages (from transformers) (4.11.3)\n",
            "Requirement already satisfied: sacremoses in /usr/local/lib/python3.7/dist-packages (from transformers) (0.0.49)\n",
            "Requirement already satisfied: huggingface-hub<1.0,>=0.1.0 in /usr/local/lib/python3.7/dist-packages (from transformers) (0.5.1)\n",
            "Requirement already satisfied: pyyaml>=5.1 in /usr/local/lib/python3.7/dist-packages (from transformers) (6.0)\n",
            "Requirement already satisfied: filelock in /usr/local/lib/python3.7/dist-packages (from transformers) (3.6.0)\n",
            "Requirement already satisfied: numpy>=1.17 in /usr/local/lib/python3.7/dist-packages (from transformers) (1.21.6)\n",
            "Requirement already satisfied: requests in /usr/local/lib/python3.7/dist-packages (from transformers) (2.23.0)\n",
            "Requirement already satisfied: typing-extensions>=3.7.4.3 in /usr/local/lib/python3.7/dist-packages (from huggingface-hub<1.0,>=0.1.0->transformers) (4.1.1)\n",
            "Requirement already satisfied: pyparsing!=3.0.5,>=2.0.2 in /usr/local/lib/python3.7/dist-packages (from packaging>=20.0->transformers) (3.0.8)\n",
            "Requirement already satisfied: torch>=1.6.0 in /usr/local/lib/python3.7/dist-packages (from sentence_transformers) (1.10.0+cu111)\n",
            "Requirement already satisfied: scikit-learn in /usr/local/lib/python3.7/dist-packages (from sentence_transformers) (1.0.2)\n",
            "Requirement already satisfied: sentencepiece in /usr/local/lib/python3.7/dist-packages (from sentence_transformers) (0.1.96)\n",
            "Requirement already satisfied: nltk in /usr/local/lib/python3.7/dist-packages (from sentence_transformers) (3.2.5)\n",
            "Requirement already satisfied: torchvision in /usr/local/lib/python3.7/dist-packages (from sentence_transformers) (0.11.1+cu111)\n",
            "Requirement already satisfied: scipy in /usr/local/lib/python3.7/dist-packages (from sentence_transformers) (1.4.1)\n",
            "Requirement already satisfied: zipp>=0.5 in /usr/local/lib/python3.7/dist-packages (from importlib-metadata->transformers) (3.8.0)\n",
            "Requirement already satisfied: six in /usr/local/lib/python3.7/dist-packages (from nltk->sentence_transformers) (1.15.0)\n",
            "Requirement already satisfied: urllib3!=1.25.0,!=1.25.1,<1.26,>=1.21.1 in /usr/local/lib/python3.7/dist-packages (from requests->transformers) (1.24.3)\n",
            "Requirement already satisfied: chardet<4,>=3.0.2 in /usr/local/lib/python3.7/dist-packages (from requests->transformers) (3.0.4)\n",
            "Requirement already satisfied: certifi>=2017.4.17 in /usr/local/lib/python3.7/dist-packages (from requests->transformers) (2021.10.8)\n",
            "Requirement already satisfied: idna<3,>=2.5 in /usr/local/lib/python3.7/dist-packages (from requests->transformers) (2.10)\n",
            "Requirement already satisfied: joblib in /usr/local/lib/python3.7/dist-packages (from sacremoses->transformers) (1.1.0)\n",
            "Requirement already satisfied: click in /usr/local/lib/python3.7/dist-packages (from sacremoses->transformers) (7.1.2)\n",
            "Requirement already satisfied: threadpoolctl>=2.0.0 in /usr/local/lib/python3.7/dist-packages (from scikit-learn->sentence_transformers) (3.1.0)\n",
            "Requirement already satisfied: pillow!=8.3.0,>=5.3.0 in /usr/local/lib/python3.7/dist-packages (from torchvision->sentence_transformers) (7.1.2)\n"
          ]
        }
      ],
      "source": [
        "! pip install transformers sentence_transformers"
      ]
    },
    {
      "cell_type": "markdown",
      "metadata": {
        "id": "KYrvYb4qaRK3"
      },
      "source": [
        "###0. Text preprocessing (Maybe not needed): \n",
        "\n",
        "* Normalization: transforming the text into lower case and removing all the special characters and punctuations.\n",
        "\n",
        "* Tokenization: getting the normalized text and splitting it into a list of tokens.\n",
        "\n",
        "* Removing stop words: stop words are the words that are most commonly used in a language and do not add much meaning to the text. Some examples are the words ‘the’, ‘a’, ‘will’,…\n",
        "\n",
        "* Stemming: it is the process to get the root of the words and sometimes this root is not equal to the morphological root of the word, but the stemming goal is to make that related word maps to the same stem. Examples: branched and branching become branch.\n",
        "\n",
        "* Lemmatization: This is the process of getting the same word for a group of inflected word forms, the simplest way to do this is with a dictionary. Examples: is, was, were become be."
      ]
    },
    {
      "cell_type": "code",
      "execution_count": 7,
      "metadata": {
        "colab": {
          "base_uri": "https://localhost:8080/"
        },
        "id": "CTy8a9T1otXN",
        "outputId": "fff93848-b252-4752-d589-2c81874ccad2"
      },
      "outputs": [
        {
          "name": "stdout",
          "output_type": "stream",
          "text": [
            "Requirement already satisfied: stanza in /usr/local/lib/python3.7/dist-packages (1.3.0)\n",
            "Requirement already satisfied: six in /usr/local/lib/python3.7/dist-packages (from stanza) (1.15.0)\n",
            "Requirement already satisfied: numpy in /usr/local/lib/python3.7/dist-packages (from stanza) (1.21.6)\n",
            "Requirement already satisfied: torch>=1.3.0 in /usr/local/lib/python3.7/dist-packages (from stanza) (1.10.0+cu111)\n",
            "Requirement already satisfied: emoji in /usr/local/lib/python3.7/dist-packages (from stanza) (1.7.0)\n",
            "Requirement already satisfied: requests in /usr/local/lib/python3.7/dist-packages (from stanza) (2.23.0)\n",
            "Requirement already satisfied: tqdm in /usr/local/lib/python3.7/dist-packages (from stanza) (4.64.0)\n",
            "Requirement already satisfied: protobuf in /usr/local/lib/python3.7/dist-packages (from stanza) (3.17.3)\n",
            "Requirement already satisfied: typing-extensions in /usr/local/lib/python3.7/dist-packages (from torch>=1.3.0->stanza) (4.1.1)\n",
            "Requirement already satisfied: urllib3!=1.25.0,!=1.25.1,<1.26,>=1.21.1 in /usr/local/lib/python3.7/dist-packages (from requests->stanza) (1.24.3)\n",
            "Requirement already satisfied: idna<3,>=2.5 in /usr/local/lib/python3.7/dist-packages (from requests->stanza) (2.10)\n",
            "Requirement already satisfied: certifi>=2017.4.17 in /usr/local/lib/python3.7/dist-packages (from requests->stanza) (2021.10.8)\n",
            "Requirement already satisfied: chardet<4,>=3.0.2 in /usr/local/lib/python3.7/dist-packages (from requests->stanza) (3.0.4)\n",
            "Downloading English model...\n",
            "Downloading stop words...\n",
            "[nltk_data] Downloading package stopwords to /root/nltk_data...\n",
            "[nltk_data]   Package stopwords is already up-to-date!\n"
          ]
        }
      ],
      "source": [
        "!pip install stanza\n",
        "import stanza\n",
        "print(\"Downloading English model...\")\n",
        "stanza.download('en')\n",
        "\n",
        "import glob\n",
        "import nltk\n",
        "import ssl\n",
        "print(\"Downloading stop words...\")\n",
        "try:\n",
        "    _create_unverified_https_context = ssl._create_unverified_context\n",
        "except AttributeError:\n",
        "    pass\n",
        "else:\n",
        "    ssl._create_default_https_context = _create_unverified_https_context\n",
        "\n",
        "nltk.download(\"stopwords\")\n",
        "from nltk.corpus import stopwords\n",
        "\n",
        "# getting stopwords\n",
        "stop_words_english = stopwords.words('english')\n",
        "\n",
        "def tokenize_and_normalize(doc_raw, stopwords):\n",
        "    \"\"\"Tokenizes, lemmatizes, lowercases and removes stop words.\n",
        "    \n",
        "    this function takes in a path to a doc, reads the doc file,\n",
        "    tokenizes it into words, then lemmatizes and lowercases these words.\n",
        "    finally, stopwords given to the function are removed from the list of doc lemmas\n",
        "    \n",
        "    Parameters\n",
        "    ----------\n",
        "    doc_raw : str\n",
        "    stopwords : list of strings\n",
        "        stopwords that should be removed\n",
        "    \n",
        "    Returns\n",
        "    -------\n",
        "    normalized_song : list of strings\n",
        "        a doc represented as a list of its lemmas\n",
        "    \"\"\"\n",
        "    nlp = stanza.Pipeline(lang='en', processors='tokenize, lemma',  verbose=False)\n",
        "    \n",
        "    # YOUR CODE HERE\n",
        "    \n",
        "    doc=nlp(doc_raw)\n",
        "    words = doc.iter_words()\n",
        "    normalized_doc = []\n",
        "    for w in words:\n",
        "        w = w.lemma.lower()\n",
        "        if not w in stopwords:\n",
        "            normalized_doc.append(w)\n",
        "    normalized_doc = ' '.join(normalized_doc)\n",
        "    return normalized_doc"
      ]
    },
    {
      "cell_type": "markdown",
      "metadata": {
        "id": "_FK5c3eZatug"
      },
      "source": [
        "###1. Load dataset"
      ]
    },
    {
      "cell_type": "code",
      "execution_count": 8,
      "metadata": {
        "colab": {
          "base_uri": "https://localhost:8080/"
        },
        "id": "P8BVnjl5aydy",
        "outputId": "a33489e1-fdf4-4d8a-ac1c-98a2c0b89b67"
      },
      "outputs": [
        {
          "name": "stdout",
          "output_type": "stream",
          "text": [
            "{1: \"national executive strife-torn democrat last night appoint little -known west australian senator brian greig interim leader - shock move likely provoke conflict party 's senators organisationin move reassert control party 's seven senators , national executive last night reject aden ridgeway 's bid become interim leader , favour senator greig , supporter deposed leader natasha stott despoja outspoken gay rights activist .\", 2: 'cash-strapped financial service group amp shelved $ 400 million plan buy share back investor raise $ 750 million fresh capital profit crashed six month june chief executive paul batchelor say result \" solid \" describe bad condition stock market 20 yearsamp \\'s half - year profit sink 25 per cent $ 303 million , 27 c share , australia \\'s large investor fund manager fail hit project 5 per cent earnings growth target batter fall return share market .', 3: 'united state government say want see president robert mugabe remove power work zimbabwean opposition bring change administrationas score white farmer go hide escape round - zimbabwean police , senior bush administration official call mr mugabe \\'s rule \" illegitimate irrational \" say re-election president march win fraudwalter kansteiner , assistant secretary state african affair , go blame mr mugabe \\'s policy contribute threat famine zimbabwe .', 4: 'radical armed islamist group tie tehran baghdad help al - qaida establish international terrorist training camp northern iraq , kurdish official sayintelligence officer autonomous kurdish region iraq tell guardian ansar al - islam ( supporter islam ) group harbour 150 al - qaida member string village control along iraq - iran bordermost fled afghanistan us - lead offensive , official patriotic union kurdistan ( puk ) , control part north- east iraq , claim \" abnormal \" number recruit make way area jordan , syria egypt .', 5: 'washington sharply rebuked russia bombing georgian village , warning raid violated georgian sovereignty could worsen tension moscow tbilisi \" united state regret loss life deplores violation georgia \\'s sovereignty , \" white house spokesman ari fleischer say mr fleischer say us secretary state colin powell deliver message russian counterpart stern language reflect sign souring relation moscow washington .', 6: 'gay former student melbourne christian school take legal action equal opportunity legislation , claim school discriminated sexualitytim , 16 , allege staff member hillcrest christian college berwick tell \" devil \" , constant bullying student prompt principal tell hide sexuality leave school several week ago continue year 10 distance education say homophobic bullies throw rock head , spat , call name slashed belongings .', 7: \"senior member saudi royal family pay least $ 560 million osama bin laden 's terror group taliban agreement force would attack target saudi arabia , accord court document paper , file $ us3000 billion ( $ 5500 billion ) lawsuit us , allege deal make two secret meeting saudi royals leader al - qa'ida , include bin ladenthe money enable al - qa'ida fund training camp afghanistan late attend september 11 hijacker disclosures increase tension us saudi arabia .\", 8: \"palestinian hire gun abu nidal , whose violent death report last week baghdad , murder order iraqi president saddam hussein refuse train al - qa'ida fighter base iraq , report say yesterdayiraqi intelligence chief taher jalil habbush say last wednesday abu nidal shot kill discover live illegally baghdad face interrogation anti-iraqi activity western diplomat believe radical militant kill refuse reactivate international terrorist network .\", 9: 'hunan province remain high alert last night thunderstorms threaten exacerbate flood crisis , enter fifth day 108 already dead hundred thousand evacuate flood frontline dongting lake , water level peaked 35 saturday night , eased 3 cm day hot sun , temperature reach 35 cbut lake still brim dangerously high level , spilling top bank place , local fearful thunderstorm high wind forecast hit region last night would damage dikesabout 1800 kilometer dikes around lake stand 10 million people surround farmland disaster .', 10: 'u.s. - british air raid southern iraq leave eight civilian dead nine wounded , iraqi military say sundaythe military tell official iraqi news agency warplanes bombed area basra province , 330 mile south baghdad u.scentral command florida say coalition aircraft use precision - guide weapon strike two air defense radar system near basra \" response recent iraqi hostile act coalition aircraft monitoring southern - fly zone . \" .', 11: 'iraq russia close signing $ 40 billion economic cooperation plan , iraq \\'s ambassador say saturday , deal could put moscow odd united state consider military attack baghdadthe statement ambassador abbas khalaf come amid indications russia , despite strong support post - sept11 antiterrorism coalition , maintain improve tie iran north korea , together iraq country president bush label \" axis evil . \" .', 12: 'u.sintelligence cannot say conclusively saddam hussein weapon mass destruction , information gap complicating white house effort build support attack saddam \\'s iraqi regimethe cia advise top administration official assume iraq weapon mass destructionbut agency give president bush \" smoking gun , \" accord u.sintelligence administration official .', 13: 'drug squad detective ask police ombudsman investigate taskforce examine allegation widespread corruption within squad coincide creation special unit within taskforce track spend least 10 serve former squad member corruption taskforce , codenamed ceja , check tax record financial statement bid establish suspect accrued unexplained wealth past seven yearsbut drug squad detective countered set allegation , complain ombudsman internal investigation flawed , biased over-zealous .', 14: \"queensland senator andrew bartlett launch last-minutebid rescue australian democrat split threaten destroy partywith nominations party leadership close wednesday night , senator bartlett meet last night deputy leader aden ridgeway offer place unity ticket set reform process begin heal party 's wound party source say senator ridgeway , turn former leader natasha stott despoja , still expect contest leadership one two supporter : senator bartlett brian greig , install interim leader party 's executive last thursday .\", 15: \"woman appoint head independent school , thwarting effort show woman good leader , accord victorian independent education unionalthough make two -thirds teach staff , woman hold one - third principal position , union 's general secretary , tony keenan , saidhe believe woman reluctant become principals long hour nature workbut case shut top position perception ability lead provide discipline .\", 16: \"bush administration draw plan escalate war word iraq , new campaigns step pressure baghdad rally world opinion behind us drive oust president saddam husseinthis week , state department begin mobilising iraqi across north america , europe arab world , training appear talk show , write opinion article give speech reason end president saddam 's rule .\", 17: 'beijing abruptly withdraw new car registration system driver demonstrate \" unhealthy fixation \" symbol western military industrial strength - fbi senior official infuriated popular demonstration interest american institution fbiparticularly galling one man\\'s choice tmd , stand theatre missile defence , us - design missile system regularly vilified chinese propaganda channel .', 18: 'united nation world food program estimate 14 million people seven country - malawi , mozambique , zambia , angola , swaziland , lesotho zimbabwe - face death starvation unless massive international responsein malawi , many 10000 people may already die sign malnutrition - swollen stomach , stick - thin arm , light - coloured hair - everywhere .', 19: 'malawi , country region , aids make effect famine much bad overall hiv infection rate malawi 19 per cent , area 35 percent people infecteda significant proportion young adult population sick productive workmalnutrition cause people succumb disease much quickly west , hunger force woman prostitution order feed family , make vulnerable contracting diseaselife expectancy reduce 40 year .', 20: \"united nation determine showpiece environment summit - big conference world ever witnessed - staged africathe venue , however , could remove grim reality life rest africajohannesburg 's exclusive formerly whites -only suburb sandton wealthiest neighbourhood continentjust kilometre sandton begin sprawling alexandra township , nearly million people live squalororganisers conference , begin today , seem determine two world keep far apart possibletight security surround sandton 's convention centre five-star hotel , world leader debate poverty , environment sustainable development enjoy lavish hospitality .\", 21: \"iraqi capital agog violent death one world 's notorious terrorist , least palestinian diplomat 's worry disposal abu nidal 's body , lay slab undisclosed baghdad morgueabu nidal 's fatah revolutionary council hold responsible death injury almost 1000 people 20 country across europe middle east three decade since fall yass arafat abu nidal see arafat 's willingness accommodate israel palestinian struggle\", 22: 'federal government say change announce today work dole scheme benefit participant taxpayersfederal employment service minister mal brough say july 1 take part work dole able perform extra hour complete mutual obligation quickly access training credits .', 23: 'biowarfare expert scrutiny anthrax attack declare , \" anthrax killer , \" lash today attorney general john ashcroft call \" person interest \" investigationfor second time two week , scientist go throng reporter outside lawyer \\'s office profess innocence decry attention law enforcers contends destroy life .', 24: 'china say sunday issue new regulation control export missile technology , take step ease u.sconcerns transfer sensitive equipment middle east country , particularly iran however , new rule apparently ban outright transfer specific item - something washington long urge beijing .', 25: \"nigerian president olusegun obasanjo say weep single mother sentenced death stoning child wedlock kill , add faith court system overturn sentence obasanjo 's comment late saturday appear confirm would intervene directly case , despite international outcry .\", 26: 'islamic high court northern nigeria reject appeal today single mother sentenced stoned death sex wedlock clutching baby daughter , amina lawal burst tear judge deliver ruling lawal , 30 , first sentenced march give birth daughter nine month divorcing .', 27: '2300 allegedly unregistered missile warheads come store canadian businessman \\'s anti-terrorism training facility new mexico ? u.sand canadian official still try figure , one security expert say mystery \" chill \" one david hudak , 41 , arrest united state week ago , accord court document , agent search property find warheads store crates mark \" charge demolition . \" .', 28: 'saudi interior ministry sunday confirm hold 21 - year- old saudi man fbi seek allege link sept11 hijackersauthorities interrogating saud abdulaziz saud al - rasheed \" prove connect terrorism , refer sharia ( islamic ) court , \" official saudi press agency quote unidentified ministry official say .', 29: 'sri lanka \\'s government lift four-year ban tamil tiger rebel sept6 , pave way peace talk insurgent schedule late month thailand , government minister say saturday \" lift ban promise , \" minister rehabilitation jayalath jayawardena tell associated pressthe lift ban one key rebel condition resuming peace negotiation government hiatus seven year .', 30: 'man accuse make hidden-camera footage skirt woman also make child pornography bad kind , feature rape child young 6 , police say fridaythe late allegation suggest \\'s nothing humorous voyeurs may perceive make secret video joke , staff -inspgary ellis say \" approximately 20 per cent voyeurs also commit sexual assault rape , \" ellis say , read recently release federal government report criminal voyeurism .', 31: 'police combing videotapes try spot gunman dress black shot 30 - year - old man death downtown massage parlourthe victim hit stomach upper body die 3 1/2 hour late hospitalthe woman hurtpolice urge business owner turn security - camera videotapes might record people street timeseveral video review .', 32: 'federal government regret action 12 month tampa asylum seeker crisis , small business minister joe hockey say today mr hockey say government embarrassed tampa issue , begin august 27 last year captain norwegian cargo ship rescue 400 asylum seeker indonesian ferry north christmas island .', 33: 'least three democrat consider split party no-one yet nominate contest leadershipthree \" gang four \" senators ousted natasha stott despoja leadership consider form new \" progressive centre \" party fallout last week \\'s turmoilthis would leave democrat rump three four memberswest australian senator andrew murray say yesterday unless democrat leave wing give ground party would split .', 34: 'young humpback whale remain tangled shark net gold coast yesterday , despite valiant effort marine rescuerswith head snared net anchor rope wrap around tail , stricken whale still swim hope survival fadinga second rescue attempt plan dawn today rescuer braved heavy sea , strong wind drive rain try free whale .', 35: 'prince william tell friend mother right along suspect former protection officer spying want detective intruding privacywilliam prince harry devastated treachery ken wharfe , look surrogate father , refuse talk detective .', 36: 'spectre osama bin laden rise today , urging afghans launch new jihad , holy war , predict fall united state , hand-written \" letter \" post islamic website hard proof scruffy missive genuine , islamonline . net say receive correspondent jalalabad , eastern afghanistan , afghan source ask remain anonymousthe source claim \" recent letter \" world \\'s want man .', 37: 'johannesburg earth summit set get way promise leader take action environment , debt povertysouth african president thabo mbeki , speak open ceremony , say : \" johannesburg africa must emerge something take world forward . \" absence us president george w bush threaten overshadow summit .', 38: 'robert mugabe strengthen hold zimbabwean government yesterday retaining combative hardliner minister cabinet shuffle offer little hope moderation land seizure policy keep zimbabwe crisis bring international condemnation .', 39: 'dress black disguise identities bandannas sunglass logo image southern cross constellation , superimposed pair cross boomerangs , resemble swastikathe blackshirts former husband aggrieved treatment hand ex-wives court , regard vanguard \" men\\'s rights \" movement australia say action remember mark turn - point history .', 40: \"real level world inequality environmental degradation may far bad official estimate , accord leaked document prepare world 's rich country see guardia nit include new estimate world lose almost 10 % forests past 10 year ; carbon dioxide emission lead global warming expect rise 33 % rich country 100 % rest world next 18 year ; 30 % fresh water need .\", 41: \"researcher conduct elaborate wild goose chase history digesting news bird track 4500 mile cookedkerry , irish light - bellied brent goose , one six bird tagged northern ireland may researcher monitoring species ' remarkable migrationlast week , however , find dead inuit hunter 's freezer canada , still wear 3000 satelite track devicekerry discover researcher remote cornwallis island pick signal decide try find .\", 42: 'russia defend u.scriticism economic tie country like iraq , say attempt mix business ideology misguided \" mixing ideology economic tie , characteristic cold war russia united state work end , thing past , \" russian foreign ministry spokesman boris malakhov say saturday , reacting u.sdefense secretary donald rumsfeld \\'s statement moscow \\'s economic relationship country send negative signal .', 43: 'pope john paul ii urge delegates major u.nsummit sustainable growth sunday pursue development protect environment social justicein comment tourist faithful summer residence southeast rome , pope say god put human earth administrators land , \" cultivate take care . \" \" world ever interdependent , peace , justice safekeeping creation cannot fruit joint commitment pursue common good , \" john paul say .', 44: \"russian defense minister say resident feel threaten grow number chinese worker seek employment country 's sparsely populate far eastern siberian region exact figure number chinese work russia , estimate range 200000 many 5 millionmost russian far east , arrive legitimate work visa seasonal work russia 's low-tech , labor-intensive farm .\", 45: \"australian spy listen conversation norway 's ambassador foreign office tampa crisis , soon publish book reveal phone call tapped defence signals directorate norwegian ambassador ove thorsheim visit freighter stand- book , tampa , publish norway october , recounts event trigger australia 's pacific solution transform tampa captain arne rinnan homeland hero .\", 46: \"batasuna , political party campaigns independent basque state , face double blow today : spanish parliament expect vote overwhelmingly favour banning radical group , senior investigative judge poise suspend batasuna 's activity grounds benefit eta , outlawed basque separatist group .\", 47: 'river elbe surged all-time record high friday , flooding district historic city dresden authority scramble evacuate ten thousand resident bad flooding hit central europe memoryin czech republic , authority count cost massive flooding people return home vlava river receded , revealing full extent damage life landmarks .', 48: 'european parliament spoiling fight israelit vote review eu \\'s diplomatic link jewish state , impose arm embargo threaten wide trade sanction many mep want go dispatch european military force region order \" protect palestinian people \" .', 49: \"australia 's commonwealth bank wednesday say plan cut 1000 job even report profit rise 11 percent last fiscal yearworkers react angrily plan cut , australia 's second large bank say design control cost cut take effect financial yearthe bank report net profit 2.66 billion australian dollar ( $ 1.4 billion ) year june 30 , 2.4 billion australian dollar previous year .\", 50: 'labor need distinguish government issue asylum seeker , greens leader bob brown saidhis senate colleague kerry nettle intend move motion today - first anniversary tampa crisis - condemn government refugee policy call end mandatory detention \" greens want bring government book serial breach international obligation far asylum seeker country concerned , \" senator brown say today .'}\n"
          ]
        }
      ],
      "source": [
        "import os\n",
        "import re\n",
        "## Load dataset into a list of sentences\n",
        "os.mkdir(\"Data\")\n",
        "\n",
        "## Remove the numbers at the start and end of the documents.\n",
        "DATAFILE = \"/content/drive/MyDrive/LeePincombeWelshDocuments.txt\"\n",
        "CLEANFILE = \"./Data/cleanLPW.txt\"\n",
        "INDIVIDUAL_DOCS = \"./Data/\"\n",
        "\n",
        "if (os.path.exists(CLEANFILE)):\n",
        "    os.remove(CLEANFILE)\n",
        "i = 0\n",
        "DATADICT = {}\n",
        "with open(DATAFILE, 'r', encoding=\"utf8\", errors=\"ignore\") as inputfile:\n",
        "     lines = inputfile.readlines()\n",
        "     for line in lines:\n",
        "        start_removed = re.sub(\"(\\d*\\.\\s)\", \"\", line)\n",
        "        end_removed = re.sub(\"\\(\\d* words\\)\", \".\", start_removed)\n",
        "        normalized_doc = tokenize_and_normalize(end_removed, stop_words_english)\n",
        "        DATADICT[i] = normalized_doc\n",
        "        with open(INDIVIDUAL_DOCS+f\"/{i}.txt\", \"w+\") as docfile:\n",
        "            docfile.write(end_removed)\n",
        "            i = i + 1\n",
        "DATADICT.pop(0)\n",
        "DATADICT.pop(51)\n",
        "print(DATADICT)"
      ]
    },
    {
      "cell_type": "markdown",
      "metadata": {
        "id": "Glp7nv4HO4nu"
      },
      "source": [
        "###2. Load SBERT for embedding sentences\n"
      ]
    },
    {
      "cell_type": "code",
      "execution_count": 58,
      "metadata": {
        "id": "yOh8kGuZBDsd"
      },
      "outputs": [],
      "source": [
        "from sentence_transformers import SentenceTransformer\n",
        "import pickle\n",
        "\n",
        "model = SentenceTransformer('all-MiniLM-L6-v2')\n",
        "sentences = list(DATADICT.values())\n",
        "\n",
        "embeddings = model.encode(sentences)"
      ]
    },
    {
      "cell_type": "code",
      "execution_count": 59,
      "metadata": {
        "id": "TYSMGTazBFmB"
      },
      "outputs": [],
      "source": [
        "embeddings.shape\n",
        "#Store sentences & embeddings on disc\n",
        "with open('Sbert_embeddings.pkl', \"wb\") as fOut:\n",
        "    pickle.dump({'sentences': sentences, 'embeddings': embeddings}, fOut, protocol=pickle.HIGHEST_PROTOCOL)"
      ]
    },
    {
      "cell_type": "code",
      "execution_count": 60,
      "metadata": {
        "colab": {
          "base_uri": "https://localhost:8080/"
        },
        "id": "cOdyoCHhMvHb",
        "outputId": "05499a9f-902f-4534-f513-8ec5e3060c38"
      },
      "outputs": [
        {
          "name": "stdout",
          "output_type": "stream",
          "text": [
            "<class 'list'> <class 'numpy.ndarray'>\n"
          ]
        }
      ],
      "source": [
        "#Load sentences & embeddings from disc\n",
        "with open('Sbert_embeddings.pkl', \"rb\") as fIn:\n",
        "    stored_data = pickle.load(fIn)\n",
        "    stored_sentences = stored_data['sentences']\n",
        "    stored_embeddings = stored_data['embeddings']\n",
        "print(type(stored_sentences), type(stored_embeddings))\n",
        "\n",
        "## TO DO test embedding of 1 sentence is fix???? Seems to changes"
      ]
    },
    {
      "cell_type": "markdown",
      "metadata": {
        "id": "rbrKCSl_6e3s"
      },
      "source": [
        "# 3. Compare cosine similarity with human feedback"
      ]
    },
    {
      "cell_type": "code",
      "execution_count": 73,
      "metadata": {
        "id": "pH2ABPg56snr"
      },
      "outputs": [],
      "source": [
        "# Load csv file\n",
        "import pandas as pd\n",
        "from sentence_transformers import util\n",
        "HUMANFBFILE = \"/content/drive/MyDrive/LeePincombeWelshData.csv\"\n",
        "\n",
        "df = pd.read_csv(HUMANFBFILE)\n",
        "\n",
        "# create an array that store cosine-similarity result from SBERT\n",
        "# from doc1 - doc2 - pair from human feedback data\n",
        "docs1 = df['Document1']\n",
        "docs2 = df['Document2']\n",
        "humanchoice = df['Similarity'] \n",
        "sbert_cosines = []\n",
        "\n",
        "# Traverse the human reference df\n",
        "for i in range(len(df)):\n",
        "  d1 = stored_embeddings[docs1[i]-1]\n",
        "  d2 = stored_embeddings[docs2[i]-1]\n",
        "  score = util.cos_sim(d1, d2) # Runtime = 2s\n",
        "  sbert_cosines.append(score)\n",
        "\n",
        "# Append sbert_cosines to df\n",
        "df['SBert'] = sbert_cosines"
      ]
    },
    {
      "cell_type": "code",
      "execution_count": 79,
      "metadata": {
        "colab": {
          "base_uri": "https://localhost:8080/",
          "height": 363
        },
        "id": "Q__Vy7a_TPH_",
        "outputId": "ab01fc5d-a59c-4fba-c603-a34684336b5d"
      },
      "outputs": [
        {
          "data": {
            "text/html": [
              "\n",
              "  <div id=\"df-ca6fa0da-3201-42d1-8876-a5e86b20e11a\">\n",
              "    <div class=\"colab-df-container\">\n",
              "      <div>\n",
              "<style scoped>\n",
              "    .dataframe tbody tr th:only-of-type {\n",
              "        vertical-align: middle;\n",
              "    }\n",
              "\n",
              "    .dataframe tbody tr th {\n",
              "        vertical-align: top;\n",
              "    }\n",
              "\n",
              "    .dataframe thead th {\n",
              "        text-align: right;\n",
              "    }\n",
              "</style>\n",
              "<table border=\"1\" class=\"dataframe\">\n",
              "  <thead>\n",
              "    <tr style=\"text-align: right;\">\n",
              "      <th></th>\n",
              "      <th>SubjectID</th>\n",
              "      <th>Document1</th>\n",
              "      <th>Document2</th>\n",
              "      <th>Similarity</th>\n",
              "      <th>Time</th>\n",
              "      <th>SBert</th>\n",
              "    </tr>\n",
              "  </thead>\n",
              "  <tbody>\n",
              "    <tr>\n",
              "      <th>0</th>\n",
              "      <td>1</td>\n",
              "      <td>15</td>\n",
              "      <td>4</td>\n",
              "      <td>1</td>\n",
              "      <td>25.417</td>\n",
              "      <td>0.038636</td>\n",
              "    </tr>\n",
              "    <tr>\n",
              "      <th>1</th>\n",
              "      <td>1</td>\n",
              "      <td>8</td>\n",
              "      <td>7</td>\n",
              "      <td>4</td>\n",
              "      <td>9.764</td>\n",
              "      <td>0.250195</td>\n",
              "    </tr>\n",
              "    <tr>\n",
              "      <th>2</th>\n",
              "      <td>2</td>\n",
              "      <td>17</td>\n",
              "      <td>1</td>\n",
              "      <td>1</td>\n",
              "      <td>56.061</td>\n",
              "      <td>0.112251</td>\n",
              "    </tr>\n",
              "    <tr>\n",
              "      <th>3</th>\n",
              "      <td>2</td>\n",
              "      <td>19</td>\n",
              "      <td>1</td>\n",
              "      <td>1</td>\n",
              "      <td>39.767</td>\n",
              "      <td>0.019002</td>\n",
              "    </tr>\n",
              "    <tr>\n",
              "      <th>4</th>\n",
              "      <td>2</td>\n",
              "      <td>20</td>\n",
              "      <td>1</td>\n",
              "      <td>1</td>\n",
              "      <td>37.344</td>\n",
              "      <td>0.088691</td>\n",
              "    </tr>\n",
              "    <tr>\n",
              "      <th>5</th>\n",
              "      <td>2</td>\n",
              "      <td>25</td>\n",
              "      <td>1</td>\n",
              "      <td>1</td>\n",
              "      <td>14.371</td>\n",
              "      <td>0.144440</td>\n",
              "    </tr>\n",
              "    <tr>\n",
              "      <th>6</th>\n",
              "      <td>2</td>\n",
              "      <td>33</td>\n",
              "      <td>1</td>\n",
              "      <td>5</td>\n",
              "      <td>7.962</td>\n",
              "      <td>0.572937</td>\n",
              "    </tr>\n",
              "    <tr>\n",
              "      <th>7</th>\n",
              "      <td>2</td>\n",
              "      <td>40</td>\n",
              "      <td>1</td>\n",
              "      <td>1</td>\n",
              "      <td>22.262</td>\n",
              "      <td>0.078665</td>\n",
              "    </tr>\n",
              "    <tr>\n",
              "      <th>8</th>\n",
              "      <td>2</td>\n",
              "      <td>50</td>\n",
              "      <td>1</td>\n",
              "      <td>4</td>\n",
              "      <td>15.172</td>\n",
              "      <td>0.328901</td>\n",
              "    </tr>\n",
              "    <tr>\n",
              "      <th>9</th>\n",
              "      <td>2</td>\n",
              "      <td>4</td>\n",
              "      <td>2</td>\n",
              "      <td>1</td>\n",
              "      <td>37.805</td>\n",
              "      <td>0.057868</td>\n",
              "    </tr>\n",
              "  </tbody>\n",
              "</table>\n",
              "</div>\n",
              "      <button class=\"colab-df-convert\" onclick=\"convertToInteractive('df-ca6fa0da-3201-42d1-8876-a5e86b20e11a')\"\n",
              "              title=\"Convert this dataframe to an interactive table.\"\n",
              "              style=\"display:none;\">\n",
              "        \n",
              "  <svg xmlns=\"http://www.w3.org/2000/svg\" height=\"24px\"viewBox=\"0 0 24 24\"\n",
              "       width=\"24px\">\n",
              "    <path d=\"M0 0h24v24H0V0z\" fill=\"none\"/>\n",
              "    <path d=\"M18.56 5.44l.94 2.06.94-2.06 2.06-.94-2.06-.94-.94-2.06-.94 2.06-2.06.94zm-11 1L8.5 8.5l.94-2.06 2.06-.94-2.06-.94L8.5 2.5l-.94 2.06-2.06.94zm10 10l.94 2.06.94-2.06 2.06-.94-2.06-.94-.94-2.06-.94 2.06-2.06.94z\"/><path d=\"M17.41 7.96l-1.37-1.37c-.4-.4-.92-.59-1.43-.59-.52 0-1.04.2-1.43.59L10.3 9.45l-7.72 7.72c-.78.78-.78 2.05 0 2.83L4 21.41c.39.39.9.59 1.41.59.51 0 1.02-.2 1.41-.59l7.78-7.78 2.81-2.81c.8-.78.8-2.07 0-2.86zM5.41 20L4 18.59l7.72-7.72 1.47 1.35L5.41 20z\"/>\n",
              "  </svg>\n",
              "      </button>\n",
              "      \n",
              "  <style>\n",
              "    .colab-df-container {\n",
              "      display:flex;\n",
              "      flex-wrap:wrap;\n",
              "      gap: 12px;\n",
              "    }\n",
              "\n",
              "    .colab-df-convert {\n",
              "      background-color: #E8F0FE;\n",
              "      border: none;\n",
              "      border-radius: 50%;\n",
              "      cursor: pointer;\n",
              "      display: none;\n",
              "      fill: #1967D2;\n",
              "      height: 32px;\n",
              "      padding: 0 0 0 0;\n",
              "      width: 32px;\n",
              "    }\n",
              "\n",
              "    .colab-df-convert:hover {\n",
              "      background-color: #E2EBFA;\n",
              "      box-shadow: 0px 1px 2px rgba(60, 64, 67, 0.3), 0px 1px 3px 1px rgba(60, 64, 67, 0.15);\n",
              "      fill: #174EA6;\n",
              "    }\n",
              "\n",
              "    [theme=dark] .colab-df-convert {\n",
              "      background-color: #3B4455;\n",
              "      fill: #D2E3FC;\n",
              "    }\n",
              "\n",
              "    [theme=dark] .colab-df-convert:hover {\n",
              "      background-color: #434B5C;\n",
              "      box-shadow: 0px 1px 3px 1px rgba(0, 0, 0, 0.15);\n",
              "      filter: drop-shadow(0px 1px 2px rgba(0, 0, 0, 0.3));\n",
              "      fill: #FFFFFF;\n",
              "    }\n",
              "  </style>\n",
              "\n",
              "      <script>\n",
              "        const buttonEl =\n",
              "          document.querySelector('#df-ca6fa0da-3201-42d1-8876-a5e86b20e11a button.colab-df-convert');\n",
              "        buttonEl.style.display =\n",
              "          google.colab.kernel.accessAllowed ? 'block' : 'none';\n",
              "\n",
              "        async function convertToInteractive(key) {\n",
              "          const element = document.querySelector('#df-ca6fa0da-3201-42d1-8876-a5e86b20e11a');\n",
              "          const dataTable =\n",
              "            await google.colab.kernel.invokeFunction('convertToInteractive',\n",
              "                                                     [key], {});\n",
              "          if (!dataTable) return;\n",
              "\n",
              "          const docLinkHtml = 'Like what you see? Visit the ' +\n",
              "            '<a target=\"_blank\" href=https://colab.research.google.com/notebooks/data_table.ipynb>data table notebook</a>'\n",
              "            + ' to learn more about interactive tables.';\n",
              "          element.innerHTML = '';\n",
              "          dataTable['output_type'] = 'display_data';\n",
              "          await google.colab.output.renderOutput(dataTable, element);\n",
              "          const docLink = document.createElement('div');\n",
              "          docLink.innerHTML = docLinkHtml;\n",
              "          element.appendChild(docLink);\n",
              "        }\n",
              "      </script>\n",
              "    </div>\n",
              "  </div>\n",
              "  "
            ],
            "text/plain": [
              "   SubjectID  Document1  Document2  Similarity    Time     SBert\n",
              "0          1         15          4           1  25.417  0.038636\n",
              "1          1          8          7           4   9.764  0.250195\n",
              "2          2         17          1           1  56.061  0.112251\n",
              "3          2         19          1           1  39.767  0.019002\n",
              "4          2         20          1           1  37.344  0.088691\n",
              "5          2         25          1           1  14.371  0.144440\n",
              "6          2         33          1           5   7.962  0.572937\n",
              "7          2         40          1           1  22.262  0.078665\n",
              "8          2         50          1           4  15.172  0.328901\n",
              "9          2          4          2           1  37.805  0.057868"
            ]
          },
          "execution_count": 79,
          "metadata": {},
          "output_type": "execute_result"
        }
      ],
      "source": [
        "df['SBert'] = df['SBert'].astype(float)\n",
        "df.to_csv('/content/humanfb_sbert.csv', index=False)\n",
        "df.head(10)"
      ]
    },
    {
      "cell_type": "code",
      "execution_count": null,
      "metadata": {
        "id": "E4Q7CxXZQcOF"
      },
      "outputs": [],
      "source": []
    },
    {
      "cell_type": "markdown",
      "metadata": {
        "id": "if45GN1dRNo6"
      },
      "source": [
        "# 4. Average Similarity\n"
      ]
    },
    {
      "cell_type": "code",
      "execution_count": null,
      "metadata": {},
      "outputs": [
        {
          "ename": "",
          "evalue": "",
          "output_type": "error",
          "traceback": [
            "\u001b[1;31mRunning cells with 'Python 3.9.5 64-bit' requires ipykernel package.\n",
            "Run the following command to install 'ipykernel' into the Python environment. \n",
            "Command: '/bin/python3.9 -m pip install ipykernel -U --user --force-reinstall'"
          ]
        }
      ],
      "source": [
        "human_evaluation_data = pd.read_csv(\"Data/AverageSimilarities.csv\")\n",
        "\n",
        "## TODO: refactor this and reuse for 3. and 4. \n",
        "docs1 = human_evaluation_data['Document_1']\n",
        "docs2 = human_evaluation_data['Document_2']\n",
        "sbert_similarities = []\n",
        "\n",
        "# Traverse the human reference df\n",
        "for i in range(len(human_evaluation_data)):\n",
        "  d1 = stored_embeddings[docs1[i]-1]\n",
        "  d2 = stored_embeddings[docs2[i]-1]\n",
        "  score = util.cos_sim(d1, d2) # Runtime = 2s\n",
        "  sbert_similarities.append(score)\n",
        "\n",
        "# Append sbert_cosines to df\n",
        "human_evaluation_data['Similarities_SBERT'] = sbert_similarities\n",
        "human_evaluation_data['Similarities_SBERT'] = human_evaluation_data['Similarities_SBERT'].astype(float)\n",
        "df.to_csv('/content/Data/AverageSimilarities_.csv', index=False)"
      ]
    }
  ],
  "metadata": {
    "colab": {
      "collapsed_sections": [],
      "name": "SBERT for document similarity.ipynb",
      "provenance": []
    },
    "kernelspec": {
      "display_name": "Python 3",
      "name": "python3"
    },
    "language_info": {
      "name": "python",
      "version": "3.9.5"
    }
  },
  "nbformat": 4,
  "nbformat_minor": 0
}
