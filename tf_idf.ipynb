{
 "cells": [
  {
   "cell_type": "markdown",
   "metadata": {},
   "source": [
    "# Document Similarity: TF-IDF"
   ]
  },
  {
   "cell_type": "code",
   "execution_count": 5,
   "metadata": {},
   "outputs": [],
   "source": [
    "import numpy as np\n",
    "import re\n",
    "import os"
   ]
  },
  {
   "cell_type": "code",
   "execution_count": 37,
   "metadata": {},
   "outputs": [],
   "source": [
    "## Remove the numbers at the start and end of the documents.\n",
    "DATAFILE = \"./Data/LeePincombeWelshDocuments.txt\"\n",
    "CLEANFILE = \"./Data/cleanLPW.txt\"\n",
    "INDIVIDUAL_DOCS = \"./Data/Docs\"\n",
    "\n",
    "if (os.path.exists(CLEANFILE)):\n",
    "    os.remove(CLEANFILE)\n",
    "i = 0\n",
    "with open(DATAFILE, 'r', encoding=\"utf8\", errors=\"ignore\") as inputfile:\n",
    "     lines = inputfile.readlines()\n",
    "     for line in lines:\n",
    "        start_removed = re.sub(\"(\\d*\\.\\s)\", \"\", line)\n",
    "        end_removed = re.sub(\"\\(\\d* words\\)\", \".\", start_removed)\n",
    "        with open(CLEANFILE, 'a+') as outputfile:\n",
    "            outputfile.write(end_removed)\n",
    "        with open(INDIVIDUAL_DOCS+f\"/{i}.txt\", \"w+\") as docfile:\n",
    "            docfile.write(end_removed)\n",
    "            i = i + 1\n",
    "\n",
    "     "
   ]
  },
  {
   "cell_type": "code",
   "execution_count": 24,
   "metadata": {},
   "outputs": [
    {
     "name": "stdout",
     "output_type": "stream",
     "text": [
      "\u001b[33mDEPRECATION: Configuring installation scheme with distutils config files is deprecated and will no longer work in the near future. If you are using a Homebrew or Linuxbrew Python, please see discussion at https://github.com/Homebrew/homebrew-core/issues/76621\u001b[0m\u001b[33m\n",
      "\u001b[0mRequirement already satisfied: stanza in /usr/local/lib/python3.9/site-packages (1.3.0)\n",
      "Requirement already satisfied: tqdm in /usr/local/lib/python3.9/site-packages (from stanza) (4.64.0)\n",
      "Requirement already satisfied: six in /usr/local/lib/python3.9/site-packages (from stanza) (1.16.0)\n",
      "Requirement already satisfied: requests in /usr/local/lib/python3.9/site-packages (from stanza) (2.27.1)\n",
      "Requirement already satisfied: emoji in /usr/local/lib/python3.9/site-packages (from stanza) (1.7.0)\n",
      "Requirement already satisfied: torch>=1.3.0 in /usr/local/lib/python3.9/site-packages (from stanza) (1.11.0)\n",
      "Requirement already satisfied: numpy in /usr/local/lib/python3.9/site-packages (from stanza) (1.22.2)\n",
      "Requirement already satisfied: protobuf in /usr/local/lib/python3.9/site-packages (from stanza) (3.20.0)\n",
      "Requirement already satisfied: typing-extensions in /usr/local/lib/python3.9/site-packages (from torch>=1.3.0->stanza) (4.1.1)\n",
      "Requirement already satisfied: certifi>=2017.4.17 in /usr/local/lib/python3.9/site-packages (from requests->stanza) (2021.10.8)\n",
      "Requirement already satisfied: idna<4,>=2.5 in /usr/local/lib/python3.9/site-packages (from requests->stanza) (3.3)\n",
      "Requirement already satisfied: charset-normalizer~=2.0.0 in /usr/local/lib/python3.9/site-packages (from requests->stanza) (2.0.12)\n",
      "Requirement already satisfied: urllib3<1.27,>=1.21.1 in /usr/local/lib/python3.9/site-packages (from requests->stanza) (1.26.9)\n",
      "\u001b[33mDEPRECATION: Configuring installation scheme with distutils config files is deprecated and will no longer work in the near future. If you are using a Homebrew or Linuxbrew Python, please see discussion at https://github.com/Homebrew/homebrew-core/issues/76621\u001b[0m\u001b[33m\n",
      "\u001b[0mDownloading English model...\n"
     ]
    },
    {
     "name": "stderr",
     "output_type": "stream",
     "text": [
      "Downloading https://raw.githubusercontent.com/stanfordnlp/stanza-resources/main/resources_1.3.0.json: 142kB [00:00, 72.0MB/s]                    \n",
      "2022-04-18 18:26:36 INFO: Downloading default packages for language: en (English)...\n",
      "2022-04-18 18:26:37 INFO: File exists: /Users/esapalosaari/stanza_resources/en/default.zip.\n",
      "2022-04-18 18:26:40 INFO: Finished downloading models and saved to /Users/esapalosaari/stanza_resources.\n"
     ]
    }
   ],
   "source": [
    "!pip3 install stanza\n",
    "import stanza\n",
    "print(\"Downloading English model...\")\n",
    "stanza.download('en')\n",
    "\n",
    "\n",
    "\n",
    "def tokenize_and_normalize(file_name, stopwords):\n",
    "    \"\"\"Tokenizes, lemmatizes, lowercases and removes stop words.\n",
    "    \n",
    "    this function takes in a path to a song, reads the song file,\n",
    "    tokenizes it into words, then lemmatizes and lowercases these words.\n",
    "    finally, stopwords given to the function are removed from the list of song lemmas\n",
    "    \n",
    "    Parameters\n",
    "    ----------\n",
    "    file_name : str\n",
    "        a path to a text file\n",
    "    stopwords : list of strings\n",
    "        stopwords that should be removed\n",
    "    \n",
    "    Returns\n",
    "    -------\n",
    "    normalized_song : list of strings\n",
    "        a song represented as a list of its lemmas\n",
    "    \"\"\"\n",
    "    \n",
    "    nlp = stanza.Pipeline(lang='en', processors='tokenize, lemma',  verbose=False)\n",
    "    \n",
    "    with open(file_name, 'r') as f:\n",
    "        line = f.read()\n",
    "        doc = nlp(line)\n",
    "    normalized_doc = []\n",
    "    for doc_sent in doc.sentences:\n",
    "        for words in doc_sent.words:\n",
    "            if words.lemma.lower() not in stopwords:\n",
    "                lemma = words.lemma.lower()\n",
    "                normalized_doc.append(lemma)\n",
    "    \n",
    "    return normalized_doc"
   ]
  },
  {
   "cell_type": "code",
   "execution_count": null,
   "metadata": {},
   "outputs": [],
   "source": []
  },
  {
   "cell_type": "code",
   "execution_count": 25,
   "metadata": {},
   "outputs": [],
   "source": [
    "def tf_idf(td_matrix):\n",
    "    \"\"\" Weighs a term-document matrix of raw counts with tf-idf scheme\n",
    "    \n",
    "    this function takes in a term-document matrix as a numpy array, \n",
    "    and weights the scores with the tf-idf algorithm described above.\n",
    "    idf values are modified with log_10\n",
    "    \n",
    "    Parameters\n",
    "    ----------\n",
    "    td_matrix : numpy array \n",
    "        a matrix where columns are songs and \n",
    "        rows are word counts in a song\n",
    "    \n",
    "    Returns\n",
    "    -------\n",
    "    tf_idf_matrix : numpy array \n",
    "        a matrix where columns are songs and \n",
    "        rows are word tf-idf values in a song\n",
    "        \n",
    "    idf_vector : numpy array of shape (vocabulary-size, 1)\n",
    "        a vector of idf values for words in the collection. the shape is (vocabulary-size, 1)\n",
    "        this vector will be used to weight new query documents\n",
    "    \"\"\"\n",
    "    # YOUR CODE HERE\n",
    "    idf_vector = []\n",
    "    for row in td_matrix:\n",
    "        nonzeros = np.count_nonzero(row)\n",
    "        documents = len(row)\n",
    "        if nonzeros > 0:\n",
    "            idf = np.log10(documents/nonzeros)\n",
    "        else:\n",
    "            idf = 0\n",
    "        idf_vector.append(idf)\n",
    "    \n",
    "    idf_vector = np.array(idf_vector)\n",
    "    idf_vector = idf_vector.reshape((len(idf_vector), 1))\n",
    "    tf_idf_matrix = idf_vector * td_matrix\n",
    "    \n",
    "    return tf_idf_matrix, idf_vector  "
   ]
  },
  {
   "cell_type": "markdown",
   "metadata": {},
   "source": [
    "## Prepare documents"
   ]
  },
  {
   "cell_type": "code",
   "execution_count": 26,
   "metadata": {},
   "outputs": [
    {
     "name": "stdout",
     "output_type": "stream",
     "text": [
      "\u001b[33mDEPRECATION: Configuring installation scheme with distutils config files is deprecated and will no longer work in the near future. If you are using a Homebrew or Linuxbrew Python, please see discussion at https://github.com/Homebrew/homebrew-core/issues/76621\u001b[0m\u001b[33m\n",
      "\u001b[0mCollecting nltk\n",
      "  Downloading nltk-3.7-py3-none-any.whl (1.5 MB)\n",
      "\u001b[2K     \u001b[90m━━━━━━━━━━━━━━━━━━━━━━━━━━━━━━━━━━━━━━━━\u001b[0m \u001b[32m1.5/1.5 MB\u001b[0m \u001b[31m2.3 MB/s\u001b[0m eta \u001b[36m0:00:00\u001b[0m00:01\u001b[0m00:01\u001b[0m\n",
      "\u001b[?25hRequirement already satisfied: click in /usr/local/lib/python3.9/site-packages (from nltk) (8.0.3)\n",
      "Requirement already satisfied: tqdm in /usr/local/lib/python3.9/site-packages (from nltk) (4.64.0)\n",
      "Collecting regex>=2021.8.3\n",
      "  Downloading regex-2022.3.15-cp39-cp39-macosx_10_9_x86_64.whl (288 kB)\n",
      "\u001b[2K     \u001b[90m━━━━━━━━━━━━━━━━━━━━━━━━━━━━━━━━━━━━━━━\u001b[0m \u001b[32m288.9/288.9 KB\u001b[0m \u001b[31m1.7 MB/s\u001b[0m eta \u001b[36m0:00:00\u001b[0m00:01\u001b[0m00:01\u001b[0m\n",
      "\u001b[?25hCollecting joblib\n",
      "  Downloading joblib-1.1.0-py2.py3-none-any.whl (306 kB)\n",
      "\u001b[2K     \u001b[90m━━━━━━━━━━━━━━━━━━━━━━━━━━━━━━━━━━━━━━━\u001b[0m \u001b[32m307.0/307.0 KB\u001b[0m \u001b[31m2.2 MB/s\u001b[0m eta \u001b[36m0:00:00\u001b[0ma \u001b[36m0:00:01\u001b[0m\n",
      "\u001b[?25hInstalling collected packages: regex, joblib, nltk\n",
      "\u001b[33m  DEPRECATION: Configuring installation scheme with distutils config files is deprecated and will no longer work in the near future. If you are using a Homebrew or Linuxbrew Python, please see discussion at https://github.com/Homebrew/homebrew-core/issues/76621\u001b[0m\u001b[33m\n",
      "\u001b[0m\u001b[33m  DEPRECATION: Configuring installation scheme with distutils config files is deprecated and will no longer work in the near future. If you are using a Homebrew or Linuxbrew Python, please see discussion at https://github.com/Homebrew/homebrew-core/issues/76621\u001b[0m\u001b[33m\n",
      "\u001b[0m\u001b[33m  DEPRECATION: Configuring installation scheme with distutils config files is deprecated and will no longer work in the near future. If you are using a Homebrew or Linuxbrew Python, please see discussion at https://github.com/Homebrew/homebrew-core/issues/76621\u001b[0m\u001b[33m\n",
      "\u001b[0m\u001b[33mDEPRECATION: Configuring installation scheme with distutils config files is deprecated and will no longer work in the near future. If you are using a Homebrew or Linuxbrew Python, please see discussion at https://github.com/Homebrew/homebrew-core/issues/76621\u001b[0m\u001b[33m\n",
      "\u001b[0mSuccessfully installed joblib-1.1.0 nltk-3.7 regex-2022.3.15\n"
     ]
    }
   ],
   "source": [
    "!pip3 install nltk"
   ]
  },
  {
   "cell_type": "code",
   "execution_count": 27,
   "metadata": {},
   "outputs": [
    {
     "name": "stderr",
     "output_type": "stream",
     "text": [
      "[nltk_data] Downloading package stopwords to\n",
      "[nltk_data]     /Users/esapalosaari/nltk_data...\n",
      "[nltk_data]   Unzipping corpora/stopwords.zip.\n"
     ]
    }
   ],
   "source": [
    "\n",
    "import glob\n",
    "import nltk\n",
    "import ssl\n",
    "try:\n",
    "    _create_unverified_https_context = ssl._create_unverified_context\n",
    "except AttributeError:\n",
    "    pass\n",
    "else:\n",
    "    ssl._create_default_https_context = _create_unverified_https_context\n",
    "\n",
    "nltk.download(\"stopwords\")\n",
    "from nltk.corpus import stopwords"
   ]
  },
  {
   "cell_type": "code",
   "execution_count": 38,
   "metadata": {},
   "outputs": [
    {
     "name": "stdout",
     "output_type": "stream",
     "text": [
      "['./Data/Docs/29.txt', './Data/Docs/15.txt', './Data/Docs/14.txt', './Data/Docs/28.txt', './Data/Docs/16.txt', './Data/Docs/17.txt', './Data/Docs/13.txt', './Data/Docs/12.txt', './Data/Docs/10.txt', './Data/Docs/38.txt', './Data/Docs/39.txt', './Data/Docs/11.txt', './Data/Docs/49.txt', './Data/Docs/48.txt', './Data/Docs/9.txt', './Data/Docs/8.txt', './Data/Docs/5.txt', './Data/Docs/43.txt', './Data/Docs/42.txt', './Data/Docs/4.txt', './Data/Docs/40.txt', './Data/Docs/6.txt', './Data/Docs/7.txt', './Data/Docs/41.txt', './Data/Docs/45.txt', './Data/Docs/51.txt', './Data/Docs/3.txt', './Data/Docs/50.txt', './Data/Docs/2.txt', './Data/Docs/44.txt', './Data/Docs/0.txt', './Data/Docs/46.txt', './Data/Docs/47.txt', './Data/Docs/1.txt', './Data/Docs/34.txt', './Data/Docs/20.txt', './Data/Docs/21.txt', './Data/Docs/35.txt', './Data/Docs/23.txt', './Data/Docs/37.txt', './Data/Docs/36.txt', './Data/Docs/22.txt', './Data/Docs/26.txt', './Data/Docs/32.txt', './Data/Docs/33.txt', './Data/Docs/27.txt', './Data/Docs/31.txt', './Data/Docs/25.txt', './Data/Docs/19.txt', './Data/Docs/18.txt', './Data/Docs/24.txt', './Data/Docs/30.txt']\n"
     ]
    }
   ],
   "source": [
    "stopwords_english = stopwords.words('english')\n",
    "docs = glob.glob('./Data/Docs/*')\n"
   ]
  },
  {
   "cell_type": "code",
   "execution_count": 34,
   "metadata": {},
   "outputs": [
    {
     "name": "stdout",
     "output_type": "stream",
     "text": [
      "[['labor', 'need', 'distinguish', 'government', 'issue', 'asylum', 'seeker', ',', 'greens', 'leader', 'bob', 'brown', 'saidhis', 'senate', 'colleague', 'kerry', 'nettle', 'intend', 'move', 'motion', 'today', '-', 'first', 'anniversary', 'tampa', 'crisis', '-', 'condemn', 'government', 'refugee', 'policy', 'call', 'end', 'mandatory', 'detention', '\"', 'greens', 'want', 'bring', 'government', 'book', 'serial', 'breach', 'international', 'obligation', 'far', 'asylum', 'seeker', 'country', 'concerned', ',', '\"', 'senator', 'brown', 'say', 'today', '.'], ['federal', 'government', 'regret', 'action', '12', 'month', 'tampa', 'asylum', 'seeker', 'crisis', ',', 'small', 'business', 'minister', 'joe', 'hockey', 'say', 'today', 'mr', 'hockey', 'say', 'government', 'embarrassed', 'tampa', 'issue', ',', 'begin', 'august', '27', 'last', 'year', 'captain', 'norwegian', 'cargo', 'ship', 'rescue', '400', 'asylum', 'seeker', 'indonesian', 'ferry', 'north', 'christmas', 'island', '.'], ['prince', 'william', 'tell', 'friend', 'mother', 'right', 'along', 'suspect', 'former', 'protection', 'officer', 'spying', 'want', 'detective', 'intruding', 'privacywilliam', 'prince', 'harry', 'devastated', 'treachery', 'ken', 'wharfe', ',', 'look', 'surrogate', 'father', ',', 'refuse', 'talk', 'detective', '.'], [], ['young', 'humpback', 'whale', 'remain', 'tangled', 'shark', 'net', 'gold', 'coast', 'yesterday', ',', 'despite', 'valiant', 'effort', 'marine', 'rescuerswith', 'head', 'snared', 'net', 'anchor', 'rope', 'wrap', 'around', 'tail', ',', 'stricken', 'whale', 'still', 'swim', 'hope', 'survival', 'fadinga', 'second', 'rescue', 'attempt', 'plan', 'dawn', 'today', 'rescuer', 'braved', 'heavy', 'sea', ',', 'strong', 'wind', 'drive', 'rain', 'try', 'free', 'whale', '.'], ['least', 'three', 'democrat', 'consider', 'split', 'party', 'no-one', 'yet', 'nominate', 'contest', 'leadershipthree', '\"', 'gang', 'four', '\"', 'senators', 'ousted', 'natasha', 'stott', 'despoja', 'leadership', 'consider', 'form', 'new', '\"', 'progressive', 'centre', '\"', 'party', 'fallout', 'last', 'week', \"'s\", 'turmoilthis', 'would', 'leave', 'democrat', 'rump', 'three', 'four', 'memberswest', 'australian', 'senator', 'andrew', 'murray', 'say', 'yesterday', 'unless', 'democrat', 'leave', 'wing', 'give', 'ground', 'party', 'would', 'split', '.'], ['united', 'nation', 'determine', 'showpiece', 'environment', 'summit', '-', 'big', 'conference', 'world', 'ever', 'witnessed', '-', 'staged', 'africathe', 'venue', ',', 'however', ',', 'could', 'remove', 'grim', 'reality', 'life', 'rest', 'africajohannesburg', \"'s\", 'exclusive', 'formerly', 'whites', '-only', 'suburb', 'sandton', 'wealthiest', 'neighbourhood', 'continentjust', 'kilometre', 'sandton', 'begin', 'sprawling', 'alexandra', 'township', ',', 'nearly', 'million', 'people', 'live', 'squalororganisers', 'conference', ',', 'begin', 'today', ',', 'seem', 'determine', 'two', 'world', 'keep', 'far', 'apart', 'possibletight', 'security', 'surround', 'sandton', \"'s\", 'convention', 'centre', 'five-star', 'hotel', ',', 'world', 'leader', 'debate', 'poverty', ',', 'environment', 'sustainable', 'development', 'enjoy', 'lavish', 'hospitality', '.'], ['united', 'nation', 'world', 'food', 'program', 'estimate', '14', 'million', 'people', 'seven', 'country', '-', 'malawi', ',', 'mozambique', ',', 'zambia', ',', 'angola', ',', 'swaziland', ',', 'lesotho', 'zimbabwe', '-', 'face', 'death', 'starvation', 'unless', 'massive', 'international', 'responsein', 'malawi', ',', 'many', '10000', 'people', 'may', 'already', 'die', 'sign', 'malnutrition', '-', 'swollen', 'stomach', ',', 'stick', '-', 'thin', 'arm', ',', 'light', '-', 'coloured', 'hair', '-', 'everywhere', '.'], ['2300', 'allegedly', 'unregistered', 'missile', 'warheads', 'come', 'store', 'canadian', 'businessman', \"'s\", 'anti-terrorism', 'training', 'facility', 'new', 'mexico', '?', 'u.sand', 'canadian', 'official', 'still', 'try', 'figure', ',', 'one', 'security', 'expert', 'say', 'mystery', '\"', 'chill', '\"', 'one', 'david', 'hudak', ',', '41', ',', 'arrest', 'united', 'state', 'week', 'ago', ',', 'accord', 'court', 'document', ',', 'agent', 'search', 'property', 'find', 'warheads', 'store', 'crates', 'mark', '\"', 'charge', 'demolition', '.', '\"', '.'], ['hunan', 'province', 'remain', 'high', 'alert', 'last', 'night', 'thunderstorms', 'threaten', 'exacerbate', 'flood', 'crisis', ',', 'enter', 'fifth', 'day', '108', 'already', 'dead', 'hundred', 'thousand', 'evacuate', 'flood', 'frontline', 'dongting', 'lake', ',', 'water', 'level', 'peaked', '35', 'saturday', 'night', ',', 'eased', '3', 'cm', 'day', 'hot', 'sun', ',', 'temperature', 'reach', '35', 'cbut', 'lake', 'still', 'brim', 'dangerously', 'high', 'level', ',', 'spilling', 'top', 'bank', 'place', ',', 'local', 'fearful', 'thunderstorm', 'high', 'wind', 'forecast', 'hit', 'region', 'last', 'night', 'would', 'damage', 'dikesabout', '1800', 'kilometer', 'dikes', 'around', 'lake', 'stand', '10', 'million', 'people', 'surround', 'farmland', 'disaster', '.'], [], ['iraq', 'russia', 'close', 'signing', '$', '40', 'billion', 'economic', 'cooperation', 'plan', ',', 'iraq', \"'s\", 'ambassador', 'say', 'saturday', ',', 'deal', 'could', 'put', 'moscow', 'odd', 'united', 'state', 'consider', 'military', 'attack', 'baghdadthe', 'statement', 'ambassador', 'abbas', 'khalaf', 'come', 'amid', 'indications', 'russia', ',', 'despite', 'strong', 'support', 'post', '-', 'sept11', 'antiterrorism', 'coalition', ',', 'maintain', 'improve', 'tie', 'iran', 'north', 'korea', ',', 'together', 'iraq', 'country', 'president', 'bush', 'label', '\"', 'axis', 'evil', '.', '\"', '.'], ['senior', 'member', 'saudi', 'royal', 'family', 'pay', 'least', '$', '560', 'million', 'osama', 'bin', 'laden', \"'s\", 'terror', 'group', 'taliban', 'agreement', 'force', 'would', 'attack', 'target', 'saudi', 'arabia', ',', 'accord', 'court', 'document', 'paper', ',', 'file', '$', 'us3000', 'billion', '(', '$', '5500', 'billion', ')', 'lawsuit', 'us', ',', 'allege', 'deal', 'make', 'two', 'secret', 'meeting', 'saudi', 'royals', 'leader', 'al', '-', \"qa'ida\", ',', 'include', 'bin', 'ladenthe', 'money', 'enable', 'al', '-', \"qa'ida\", 'fund', 'training', 'camp', 'afghanistan', 'late', 'attend', 'september', '11', 'hijacker', 'disclosures', 'increase', 'tension', 'us', 'saudi', 'arabia', '.'], ['sri', 'lanka', \"'s\", 'government', 'lift', 'four-year', 'ban', 'tamil', 'tiger', 'rebel', 'sept6', ',', 'pave', 'way', 'peace', 'talk', 'insurgent', 'schedule', 'late', 'month', 'thailand', ',', 'government', 'minister', 'say', 'saturday', '\"', 'lift', 'ban', 'promise', ',', '\"', 'minister', 'rehabilitation', 'jayalath', 'jayawardena', 'tell', 'associated', 'pressthe', 'lift', 'ban', 'one', 'key', 'rebel', 'condition', 'resuming', 'peace', 'negotiation', 'government', 'hiatus', 'seven', 'year', '.'], ['bush', 'administration', 'draw', 'plan', 'escalate', 'war', 'word', 'iraq', ',', 'new', 'campaigns', 'step', 'pressure', 'baghdad', 'rally', 'world', 'opinion', 'behind', 'us', 'drive', 'oust', 'president', 'saddam', 'husseinthis', 'week', ',', 'state', 'department', 'begin', 'mobilising', 'iraqi', 'across', 'north', 'america', ',', 'europe', 'arab', 'world', ',', 'training', 'appear', 'talk', 'show', ',', 'write', 'opinion', 'article', 'give', 'speech', 'reason', 'end', 'president', 'saddam', \"'s\", 'rule', '.'], ['russia', 'defend', 'u.scriticism', 'economic', 'tie', 'country', 'like', 'iraq', ',', 'say', 'attempt', 'mix', 'business', 'ideology', 'misguided', '\"', 'mixing', 'ideology', 'economic', 'tie', ',', 'characteristic', 'cold', 'war', 'russia', 'united', 'state', 'work', 'end', ',', 'thing', 'past', ',', '\"', 'russian', 'foreign', 'ministry', 'spokesman', 'boris', 'malakhov', 'say', 'saturday', ',', 'reacting', 'u.sdefense', 'secretary', 'donald', 'rumsfeld', \"'s\", 'statement', 'moscow', \"'s\", 'economic', 'relationship', 'country', 'send', 'negative', 'signal', '.'], ['australian', 'spy', 'listen', 'conversation', 'norway', \"'s\", 'ambassador', 'foreign', 'office', 'tampa', 'crisis', ',', 'soon', 'publish', 'book', 'reveal', 'phone', 'call', 'tapped', 'defence', 'signals', 'directorate', 'norwegian', 'ambassador', 'ove', 'thorsheim', 'visit', 'freighter', 'stand-', 'book', ',', 'tampa', ',', 'publish', 'norway', 'october', ',', 'recounts', 'event', 'trigger', 'australia', \"'s\", 'pacific', 'solution', 'transform', 'tampa', 'captain', 'arne', 'rinnan', 'homeland', 'hero', '.'], ['gay', 'former', 'student', 'melbourne', 'christian', 'school', 'take', 'legal', 'action', 'equal', 'opportunity', 'legislation', ',', 'claim', 'school', 'discriminated', 'sexualitytim', ',', '16', ',', 'allege', 'staff', 'member', 'hillcrest', 'christian', 'college', 'berwick', 'tell', '\"', 'devil', '\"', ',', 'constant', 'bullying', 'student', 'prompt', 'principal', 'tell', 'hide', 'sexuality', 'leave', 'school', 'several', 'week', 'ago', 'continue', 'year', '10', 'distance', 'education', 'say', 'homophobic', 'bullies', 'throw', 'rock', 'head', ',', 'spat', ',', 'call', 'name', 'slashed', 'belongings', '.'], ['saudi', 'interior', 'ministry', 'sunday', 'confirm', 'hold', '21', '-', 'year-', 'old', 'saudi', 'man', 'fbi', 'seek', 'allege', 'link', 'sept11', 'hijackersauthorities', 'interrogating', 'saud', 'abdulaziz', 'saud', 'al', '-', 'rasheed', '\"', 'prove', 'connect', 'terrorism', ',', 'refer', 'sharia', '(', 'islamic', ')', 'court', ',', '\"', 'official', 'saudi', 'press', 'agency', 'quote', 'unidentified', 'ministry', 'official', 'say', '.'], ['beijing', 'abruptly', 'withdraw', 'new', 'car', 'registration', 'system', 'driver', 'demonstrate', '\"', 'unhealthy', 'fixation', '\"', 'symbol', 'western', 'military', 'industrial', 'strength', '-', 'fbi', 'senior', 'official', 'infuriated', 'popular', 'demonstration', 'interest', 'american', 'institution', 'fbiparticularly', 'galling', 'one', \"man's\", 'choice', 'tmd', ',', 'stand', 'theatre', 'missile', 'defence', ',', 'us', '-', 'design', 'missile', 'system', 'regularly', 'vilified', 'chinese', 'propaganda', 'channel', '.'], ['national', 'executive', 'strife-torn', 'democrat', 'last', 'night', 'appoint', 'little', '-known', 'west', 'australian', 'senator', 'brian', 'greig', 'interim', 'leader', '-', 'shock', 'move', 'likely', 'provoke', 'conflict', 'party', \"'s\", 'senators', 'organisationin', 'move', 'reassert', 'control', 'party', \"'s\", 'seven', 'senators', ',', 'national', 'executive', 'last', 'night', 'reject', 'aden', 'ridgeway', \"'s\", 'bid', 'become', 'interim', 'leader', ',', 'favour', 'senator', 'greig', ',', 'supporter', 'deposed', 'leader', 'natasha', 'stott', 'despoja', 'outspoken', 'gay', 'rights', 'activist', '.'], ['u.s.', '-', 'british', 'air', 'raid', 'southern', 'iraq', 'leave', 'eight', 'civilian', 'dead', 'nine', 'wounded', ',', 'iraqi', 'military', 'say', 'sundaythe', 'military', 'tell', 'official', 'iraqi', 'news', 'agency', 'warplanes', 'bombed', 'area', 'basra', 'province', ',', '330', 'mile', 'south', 'baghdad', 'u.scentral', 'command', 'florida', 'say', 'coalition', 'aircraft', 'use', 'precision', '-', 'guide', 'weapon', 'strike', 'two', 'air', 'defense', 'radar', 'system', 'near', 'basra', '\"', 'response', 'recent', 'iraqi', 'hostile', 'act', 'coalition', 'aircraft', 'monitoring', 'southern', '-', 'fly', 'zone', '.', '\"', '.'], ['malawi', ',', 'country', 'region', ',', 'aids', 'make', 'effect', 'famine', 'much', 'bad', 'overall', 'hiv', 'infection', 'rate', 'malawi', '19', 'per', 'cent', ',', 'area', '35', 'percent', 'people', 'infecteda', 'significant', 'proportion', 'young', 'adult', 'population', 'sick', 'productive', 'workmalnutrition', 'cause', 'people', 'succumb', 'disease', 'much', 'quickly', 'west', ',', 'hunger', 'force', 'woman', 'prostitution', 'order', 'feed', 'family', ',', 'make', 'vulnerable', 'contracting', 'diseaselife', 'expectancy', 'reduce', '40', 'year', '.'], ['islamic', 'high', 'court', 'northern', 'nigeria', 'reject', 'appeal', 'today', 'single', 'mother', 'sentenced', 'stoned', 'death', 'sex', 'wedlock', 'clutching', 'baby', 'daughter', ',', 'amina', 'lawal', 'burst', 'tear', 'judge', 'deliver', 'ruling', 'lawal', ',', '30', ',', 'first', 'sentenced', 'march', 'give', 'birth', 'daughter', 'nine', 'month', 'divorcing', '.'], ['palestinian', 'hire', 'gun', 'abu', 'nidal', ',', 'whose', 'violent', 'death', 'report', 'last', 'week', 'baghdad', ',', 'murder', 'order', 'iraqi', 'president', 'saddam', 'hussein', 'refuse', 'train', 'al', '-', \"qa'ida\", 'fighter', 'base', 'iraq', ',', 'report', 'say', 'yesterdayiraqi', 'intelligence', 'chief', 'taher', 'jalil', 'habbush', 'say', 'last', 'wednesday', 'abu', 'nidal', 'shot', 'kill', 'discover', 'live', 'illegally', 'baghdad', 'face', 'interrogation', 'anti-iraqi', 'activity', 'western', 'diplomat', 'believe', 'radical', 'militant', 'kill', 'refuse', 'reactivate', 'international', 'terrorist', 'network', '.'], ['iraqi', 'capital', 'agog', 'violent', 'death', 'one', 'world', \"'s\", 'notorious', 'terrorist', ',', 'least', 'palestinian', 'diplomat', \"'s\", 'worry', 'disposal', 'abu', 'nidal', \"'s\", 'body', ',', 'lay', 'slab', 'undisclosed', 'baghdad', 'morgueabu', 'nidal', \"'s\", 'fatah', 'revolutionary', 'council', 'hold', 'responsible', 'death', 'injury', 'almost', '1000', 'people', '20', 'country', 'across', 'europe', 'middle', 'east', 'three', 'decade', 'since', 'fall', 'yass', 'arafat', 'abu', 'nidal', 'see', 'arafat', \"'s\", 'willingness', 'accommodate', 'israel', 'palestinian', 'struggle'], ['russian', 'defense', 'minister', 'say', 'resident', 'feel', 'threaten', 'grow', 'number', 'chinese', 'worker', 'seek', 'employment', 'country', \"'s\", 'sparsely', 'populate', 'far', 'eastern', 'siberian', 'region', 'exact', 'figure', 'number', 'chinese', 'work', 'russia', ',', 'estimate', 'range', '200000', 'many', '5', 'millionmost', 'russian', 'far', 'east', ',', 'arrive', 'legitimate', 'work', 'visa', 'seasonal', 'work', 'russia', \"'s\", 'low-tech', ',', 'labor-intensive', 'farm', '.'], ['pope', 'john', 'paul', 'ii', 'urge', 'delegates', 'major', 'u.nsummit', 'sustainable', 'growth', 'sunday', 'pursue', 'development', 'protect', 'environment', 'social', 'justicein', 'comment', 'tourist', 'faithful', 'summer', 'residence', 'southeast', 'rome', ',', 'pope', 'say', 'god', 'put', 'human', 'earth', 'administrators', 'land', ',', '\"', 'cultivate', 'take', 'care', '.', '\"', '\"', 'world', 'ever', 'interdependent', ',', 'peace', ',', 'justice', 'safekeeping', 'creation', 'cannot', 'fruit', 'joint', 'commitment', 'pursue', 'common', 'good', ',', '\"', 'john', 'paul', 'say', '.'], ['robert', 'mugabe', 'strengthen', 'hold', 'zimbabwean', 'government', 'yesterday', 'retaining', 'combative', 'hardliner', 'minister', 'cabinet', 'shuffle', 'offer', 'little', 'hope', 'moderation', 'land', 'seizure', 'policy', 'keep', 'zimbabwe', 'crisis', 'bring', 'international', 'condemnation', '.'], ['spectre', 'osama', 'bin', 'laden', 'rise', 'today', ',', 'urging', 'afghans', 'launch', 'new', 'jihad', ',', 'holy', 'war', ',', 'predict', 'fall', 'united', 'state', ',', 'hand-written', '\"', 'letter', '\"', 'post', 'islamic', 'website', 'hard', 'proof', 'scruffy', 'missive', 'genuine', ',', 'islamonline', '.', 'net', 'say', 'receive', 'correspondent', 'jalalabad', ',', 'eastern', 'afghanistan', ',', 'afghan', 'source', 'ask', 'remain', 'anonymousthe', 'source', 'claim', '\"', 'recent', 'letter', '\"', 'world', \"'s\", 'want', 'man', '.'], ['police', 'combing', 'videotapes', 'try', 'spot', 'gunman', 'dress', 'black', 'shot', '30', '-', 'year', '-', 'old', 'man', 'death', 'downtown', 'massage', 'parlourthe', 'victim', 'hit', 'stomach', 'upper', 'body', 'die', '3', '1/2', 'hour', 'late', 'hospitalthe', 'woman', 'hurtpolice', 'urge', 'business', 'owner', 'turn', 'security', '-', 'camera', 'videotapes', 'might', 'record', 'people', 'street', 'timeseveral', 'video', 'review', '.'], ['man', 'accuse', 'make', 'hidden-camera', 'footage', 'skirt', 'woman', 'also', 'make', 'child', 'pornography', 'bad', 'kind', ',', 'feature', 'rape', 'child', 'young', '6', ',', 'police', 'say', 'fridaythe', 'late', 'allegation', 'suggest', \"'s\", 'nothing', 'humorous', 'voyeurs', 'may', 'perceive', 'make', 'secret', 'video', 'joke', ',', 'staff', '-inspgary', 'ellis', 'say', '\"', 'approximately', '20', 'per', 'cent', 'voyeurs', 'also', 'commit', 'sexual', 'assault', 'rape', ',', '\"', 'ellis', 'say', ',', 'read', 'recently', 'release', 'federal', 'government', 'report', 'criminal', 'voyeurism', '.'], ['johannesburg', 'earth', 'summit', 'set', 'get', 'way', 'promise', 'leader', 'take', 'action', 'environment', ',', 'debt', 'povertysouth', 'african', 'president', 'thabo', 'mbeki', ',', 'speak', 'open', 'ceremony', ',', 'say', ':', '\"', 'johannesburg', 'africa', 'must', 'emerge', 'something', 'take', 'world', 'forward', '.', '\"', 'absence', 'us', 'president', 'george', 'w', 'bush', 'threaten', 'overshadow', 'summit', '.'], ['dress', 'black', 'disguise', 'identities', 'bandannas', 'sunglass', 'logo', 'image', 'southern', 'cross', 'constellation', ',', 'superimposed', 'pair', 'cross', 'boomerangs', ',', 'resemble', 'swastikathe', 'blackshirts', 'former', 'husband', 'aggrieved', 'treatment', 'hand', 'ex-wives', 'court', ',', 'regard', 'vanguard', '\"', \"men's\", 'rights', '\"', 'movement', 'australia', 'say', 'action', 'remember', 'mark', 'turn', '-', 'point', 'history', '.'], ['batasuna', ',', 'political', 'party', 'campaigns', 'independent', 'basque', 'state', ',', 'face', 'double', 'blow', 'today', ':', 'spanish', 'parliament', 'expect', 'vote', 'overwhelmingly', 'favour', 'banning', 'radical', 'group', ',', 'senior', 'investigative', 'judge', 'poise', 'suspend', 'batasuna', \"'s\", 'activity', 'grounds', 'benefit', 'eta', ',', 'outlawed', 'basque', 'separatist', 'group', '.'], ['researcher', 'conduct', 'elaborate', 'wild', 'goose', 'chase', 'history', 'digesting', 'news', 'bird', 'track', '4500', 'mile', 'cookedkerry', ',', 'irish', 'light', '-', 'bellied', 'brent', 'goose', ',', 'one', 'six', 'bird', 'tagged', 'northern', 'ireland', 'may', 'researcher', 'monitoring', 'species', \"'\", 'remarkable', 'migrationlast', 'week', ',', 'however', ',', 'find', 'dead', 'inuit', 'hunter', \"'s\", 'freezer', 'canada', ',', 'still', 'wear', '3000', 'satelite', 'track', 'devicekerry', 'discover', 'researcher', 'remote', 'cornwallis', 'island', 'pick', 'signal', 'decide', 'try', 'find', '.'], ['european', 'parliament', 'spoiling', 'fight', 'israelit', 'vote', 'review', 'eu', \"'s\", 'diplomatic', 'link', 'jewish', 'state', ',', 'impose', 'arm', 'embargo', 'threaten', 'wide', 'trade', 'sanction', 'many', 'mep', 'want', 'go', 'dispatch', 'european', 'military', 'force', 'region', 'order', '\"', 'protect', 'palestinian', 'people', '\"', '.'], ['china', 'say', 'sunday', 'issue', 'new', 'regulation', 'control', 'export', 'missile', 'technology', ',', 'take', 'step', 'ease', 'u.sconcerns', 'transfer', 'sensitive', 'equipment', 'middle', 'east', 'country', ',', 'particularly', 'iran', 'however', ',', 'new', 'rule', 'apparently', 'ban', 'outright', 'transfer', 'specific', 'item', '-', 'something', 'washington', 'long', 'urge', 'beijing', '.'], ['biowarfare', 'expert', 'scrutiny', 'anthrax', 'attack', 'declare', ',', '\"', 'anthrax', 'killer', ',', '\"', 'lash', 'today', 'attorney', 'general', 'john', 'ashcroft', 'call', '\"', 'person', 'interest', '\"', 'investigationfor', 'second', 'time', 'two', 'week', ',', 'scientist', 'go', 'throng', 'reporter', 'outside', 'lawyer', \"'s\", 'office', 'profess', 'innocence', 'decry', 'attention', 'law', 'enforcers', 'contends', 'destroy', 'life', '.'], ['radical', 'armed', 'islamist', 'group', 'tie', 'tehran', 'baghdad', 'help', 'al', '-', 'qaida', 'establish', 'international', 'terrorist', 'training', 'camp', 'northern', 'iraq', ',', 'kurdish', 'official', 'sayintelligence', 'officer', 'autonomous', 'kurdish', 'region', 'iraq', 'tell', 'guardian', 'ansar', 'al', '-', 'islam', '(', 'supporter', 'islam', ')', 'group', 'harbour', '150', 'al', '-', 'qaida', 'member', 'string', 'village', 'control', 'along', 'iraq', '-', 'iran', 'bordermost', 'fled', 'afghanistan', 'us', '-', 'lead', 'offensive', ',', 'official', 'patriotic', 'union', 'kurdistan', '(', 'puk', ')', ',', 'control', 'part', 'north-', 'east', 'iraq', ',', 'claim', '\"', 'abnormal', '\"', 'number', 'recruit', 'make', 'way', 'area', 'jordan', ',', 'syria', 'egypt', '.'], ['woman', 'appoint', 'head', 'independent', 'school', ',', 'thwarting', 'effort', 'show', 'woman', 'good', 'leader', ',', 'accord', 'victorian', 'independent', 'education', 'unionalthough', 'make', 'two', '-thirds', 'teach', 'staff', ',', 'woman', 'hold', 'one', '-', 'third', 'principal', 'position', ',', 'union', \"'s\", 'general', 'secretary', ',', 'tony', 'keenan', ',', 'saidhe', 'believe', 'woman', 'reluctant', 'become', 'principals', 'long', 'hour', 'nature', 'workbut', 'case', 'shut', 'top', 'position', 'perception', 'ability', 'lead', 'provide', 'discipline', '.'], ['united', 'state', 'government', 'say', 'want', 'see', 'president', 'robert', 'mugabe', 'remove', 'power', 'work', 'zimbabwean', 'opposition', 'bring', 'change', 'administrationas', 'score', 'white', 'farmer', 'go', 'hide', 'escape', 'round', '-', 'zimbabwean', 'police', ',', 'senior', 'bush', 'administration', 'official', 'call', 'mr', 'mugabe', \"'s\", 'rule', '\"', 'illegitimate', 'irrational', '\"', 'say', 're-election', 'president', 'march', 'win', 'fraudwalter', 'kansteiner', ',', 'assistant', 'secretary', 'state', 'african', 'affair', ',', 'go', 'blame', 'mr', 'mugabe', \"'s\", 'policy', 'contribute', 'threat', 'famine', 'zimbabwe', '.'], ['u.sintelligence', 'cannot', 'say', 'conclusively', 'saddam', 'hussein', 'weapon', 'mass', 'destruction', ',', 'information', 'gap', 'complicating', 'white', 'house', 'effort', 'build', 'support', 'attack', 'saddam', \"'s\", 'iraqi', 'regimethe', 'cia', 'advise', 'top', 'administration', 'official', 'assume', 'iraq', 'weapon', 'mass', 'destructionbut', 'agency', 'give', 'president', 'bush', '\"', 'smoking', 'gun', ',', '\"', 'accord', 'u.sintelligence', 'administration', 'official', '.'], ['australia', \"'s\", 'commonwealth', 'bank', 'wednesday', 'say', 'plan', 'cut', '1000', 'job', 'even', 'report', 'profit', 'rise', '11', 'percent', 'last', 'fiscal', 'yearworkers', 'react', 'angrily', 'plan', 'cut', ',', 'australia', \"'s\", 'second', 'large', 'bank', 'say', 'design', 'control', 'cost', 'cut', 'take', 'effect', 'financial', 'yearthe', 'bank', 'report', 'net', 'profit', '2.66', 'billion', 'australian', 'dollar', '(', '$', '1.4', 'billion', ')', 'year', 'june', '30', ',', '2.4', 'billion', 'australian', 'dollar', 'previous', 'year', '.'], ['real', 'level', 'world', 'inequality', 'environmental', 'degradation', 'may', 'far', 'bad', 'official', 'estimate', ',', 'accord', 'leaked', 'document', 'prepare', 'world', \"'s\", 'rich', 'country', 'see', 'guardia', 'nit', 'include', 'new', 'estimate', 'world', 'lose', 'almost', '10', '%', 'forests', 'past', '10', 'year', ';', 'carbon', 'dioxide', 'emission', 'lead', 'global', 'warming', 'expect', 'rise', '33', '%', 'rich', 'country', '100', '%', 'rest', 'world', 'next', '18', 'year', ';', '30', '%', 'fresh', 'water', 'need', '.'], ['river', 'elbe', 'surged', 'all-time', 'record', 'high', 'friday', ',', 'flooding', 'district', 'historic', 'city', 'dresden', 'authority', 'scramble', 'evacuate', 'ten', 'thousand', 'resident', 'bad', 'flooding', 'hit', 'central', 'europe', 'memoryin', 'czech', 'republic', ',', 'authority', 'count', 'cost', 'massive', 'flooding', 'people', 'return', 'home', 'vlava', 'river', 'receded', ',', 'revealing', 'full', 'extent', 'damage', 'life', 'landmarks', '.'], ['cash-strapped', 'financial', 'service', 'group', 'amp', 'shelved', '$', '400', 'million', 'plan', 'buy', 'share', 'back', 'investor', 'raise', '$', '750', 'million', 'fresh', 'capital', 'profit', 'crashed', 'six', 'month', 'june', 'chief', 'executive', 'paul', 'batchelor', 'say', 'result', '\"', 'solid', '\"', 'describe', 'bad', 'condition', 'stock', 'market', '20', 'yearsamp', \"'s\", 'half', '-', 'year', 'profit', 'sink', '25', 'per', 'cent', '$', '303', 'million', ',', '27', 'c', 'share', ',', 'australia', \"'s\", 'large', 'investor', 'fund', 'manager', 'fail', 'hit', 'project', '5', 'per', 'cent', 'earnings', 'growth', 'target', 'batter', 'fall', 'return', 'share', 'market', '.'], ['drug', 'squad', 'detective', 'ask', 'police', 'ombudsman', 'investigate', 'taskforce', 'examine', 'allegation', 'widespread', 'corruption', 'within', 'squad', 'coincide', 'creation', 'special', 'unit', 'within', 'taskforce', 'track', 'spend', 'least', '10', 'serve', 'former', 'squad', 'member', 'corruption', 'taskforce', ',', 'codenamed', 'ceja', ',', 'check', 'tax', 'record', 'financial', 'statement', 'bid', 'establish', 'suspect', 'accrued', 'unexplained', 'wealth', 'past', 'seven', 'yearsbut', 'drug', 'squad', 'detective', 'countered', 'set', 'allegation', ',', 'complain', 'ombudsman', 'internal', 'investigation', 'flawed', ',', 'biased', 'over-zealous', '.'], ['washington', 'sharply', 'rebuked', 'russia', 'bombing', 'georgian', 'village', ',', 'warning', 'raid', 'violated', 'georgian', 'sovereignty', 'could', 'worsen', 'tension', 'moscow', 'tbilisi', '\"', 'united', 'state', 'regret', 'loss', 'life', 'deplores', 'violation', 'georgia', \"'s\", 'sovereignty', ',', '\"', 'white', 'house', 'spokesman', 'ari', 'fleischer', 'say', 'mr', 'fleischer', 'say', 'us', 'secretary', 'state', 'colin', 'powell', 'deliver', 'message', 'russian', 'counterpart', 'stern', 'language', 'reflect', 'sign', 'souring', 'relation', 'moscow', 'washington', '.'], ['queensland', 'senator', 'andrew', 'bartlett', 'launch', 'last-minutebid', 'rescue', 'australian', 'democrat', 'split', 'threaten', 'destroy', 'partywith', 'nominations', 'party', 'leadership', 'close', 'wednesday', 'night', ',', 'senator', 'bartlett', 'meet', 'last', 'night', 'deputy', 'leader', 'aden', 'ridgeway', 'offer', 'place', 'unity', 'ticket', 'set', 'reform', 'process', 'begin', 'heal', 'party', \"'s\", 'wound', 'party', 'source', 'say', 'senator', 'ridgeway', ',', 'turn', 'former', 'leader', 'natasha', 'stott', 'despoja', ',', 'still', 'expect', 'contest', 'leadership', 'one', 'two', 'supporter', ':', 'senator', 'bartlett', 'brian', 'greig', ',', 'install', 'interim', 'leader', 'party', \"'s\", 'executive', 'last', 'thursday', '.'], ['federal', 'government', 'say', 'change', 'announce', 'today', 'work', 'dole', 'scheme', 'benefit', 'participant', 'taxpayersfederal', 'employment', 'service', 'minister', 'mal', 'brough', 'say', 'july', '1', 'take', 'part', 'work', 'dole', 'able', 'perform', 'extra', 'hour', 'complete', 'mutual', 'obligation', 'quickly', 'access', 'training', 'credits', '.'], ['nigerian', 'president', 'olusegun', 'obasanjo', 'say', 'weep', 'single', 'mother', 'sentenced', 'death', 'stoning', 'child', 'wedlock', 'kill', ',', 'add', 'faith', 'court', 'system', 'overturn', 'sentence', 'obasanjo', \"'s\", 'comment', 'late', 'saturday', 'appear', 'confirm', 'would', 'intervene', 'directly', 'case', ',', 'despite', 'international', 'outcry', '.']]\n"
     ]
    }
   ],
   "source": [
    "normalized_docs = []\n",
    "\n",
    "for i, doc_path in enumerate(docs):\n",
    "    normalized_docs.append(tokenize_and_normalize(doc_path, stopwords_english))\n",
    "print(normalized_docs)"
   ]
  },
  {
   "cell_type": "code",
   "execution_count": 39,
   "metadata": {},
   "outputs": [],
   "source": [
    "import numpy as np\n",
    "\n",
    "def create_term_doc_matrix(docs_normalized):\n",
    "    \"\"\" Constructs a frequency term-document matrix\n",
    "    \n",
    "    this function takes in a list of songs and returns a term-document matrix\n",
    "    the rows are lemma types, the columns are songs \n",
    "    the rows should be sorted alphabetically\n",
    "    the order of the columns should be preserved as it's given in docs_normalized\n",
    "    the cell values are a number of times a lemma was seen in a song\n",
    "    the value should be zero, if a lemma is absent from a song\n",
    "    \n",
    "    Parameters\n",
    "    ----------\n",
    "    docs_normalized : a list of lists of strings [['a','a','b'], ['a','b','c']]\n",
    "        a list of songs represented as a list of lemmas\n",
    "    \n",
    "    Returns\n",
    "    -------\n",
    "    matrix : numpy array\n",
    "        a matrix where columns are songs and rows are lemma types,\n",
    "        the cells of the matrix contain lemma counts in a song,\n",
    "        the lemmas for rows are sorted alphabetically\n",
    "        for the example above it will be:\n",
    "            np.array([[2,1],\n",
    "                      [1,1],\n",
    "                      [0,1]])\n",
    "        \n",
    "    sorted_vocab : list of strings\n",
    "        a list of all the lemma types used in all songs (the rows of our matrix)\n",
    "        the words should be strings sorted alphabetically\n",
    "        for the example above it should be ['a','b','c']\n",
    "    \"\"\"\n",
    "    \n",
    "    # 1. create one ordered list of all terms\n",
    "    sorted_vocab = []\n",
    "    for song in docs_normalized:\n",
    "        sorted_vocab += song\n",
    "    if sorted_vocab != None:\n",
    "        sorted_vocab = list(set(sorted_vocab))\n",
    "        sorted_vocab.sort() \n",
    "    \n",
    "    # 2. count the number of occurences of each term in each song\n",
    "    # 2.2. add to list of list\n",
    "    matrix = []\n",
    "    for term in sorted_vocab:\n",
    "        term_counts = []\n",
    "        for song in docs_normalized:\n",
    "            occurences = song.count(term)\n",
    "            term_counts.append(occurences)\n",
    "        matrix.append(term_counts)\n",
    "    \n",
    "    matrix = np.array(matrix)\n",
    "    \n",
    "    return matrix, sorted_vocab"
   ]
  },
  {
   "cell_type": "code",
   "execution_count": 42,
   "metadata": {},
   "outputs": [],
   "source": [
    "term_doc_matrix, sorted_vocab = create_term_doc_matrix(normalized_docs)"
   ]
  },
  {
   "cell_type": "code",
   "execution_count": 43,
   "metadata": {},
   "outputs": [
    {
     "name": "stdout",
     "output_type": "stream",
     "text": [
      "[[2 0 0 ... 0 0 0]\n",
      " [0 0 0 ... 0 0 0]\n",
      " [0 0 0 ... 0 0 0]\n",
      " ...\n",
      " [0 0 0 ... 0 0 0]\n",
      " [0 0 0 ... 0 0 0]\n",
      " [0 0 0 ... 0 0 0]]\n"
     ]
    }
   ],
   "source": [
    "print(term_doc_matrix)"
   ]
  },
  {
   "cell_type": "code",
   "execution_count": 44,
   "metadata": {},
   "outputs": [],
   "source": [
    "def tf_idf(td_matrix):\n",
    "    \"\"\" Weighs a term-document matrix of raw counts with tf-idf scheme\n",
    "    \n",
    "    this function takes in a term-document matrix as a numpy array, \n",
    "    and weights the scores with the tf-idf algorithm described above.\n",
    "    idf values are modified with log_10\n",
    "    \n",
    "    Parameters\n",
    "    ----------\n",
    "    td_matrix : numpy array \n",
    "        a matrix where columns are songs and \n",
    "        rows are word counts in a song\n",
    "    \n",
    "    Returns\n",
    "    -------\n",
    "    tf_idf_matrix : numpy array \n",
    "        a matrix where columns are songs and \n",
    "        rows are word tf-idf values in a song\n",
    "        \n",
    "    idf_vector : numpy array of shape (vocabulary-size, 1)\n",
    "        a vector of idf values for words in the collection. the shape is (vocabulary-size, 1)\n",
    "        this vector will be used to weight new query documents\n",
    "    \"\"\"\n",
    "    idf_vector = []\n",
    "    for row in td_matrix:\n",
    "        nonzeros = np.count_nonzero(row)\n",
    "        documents = len(row)\n",
    "        if nonzeros > 0:\n",
    "            idf = np.log10(documents/nonzeros)\n",
    "        else:\n",
    "            idf = 0\n",
    "        idf_vector.append(idf)\n",
    "    \n",
    "    idf_vector = np.array(idf_vector)\n",
    "    idf_vector = idf_vector.reshape((len(idf_vector), 1))\n",
    "    tf_idf_matrix = idf_vector * td_matrix\n",
    "    \n",
    "    return tf_idf_matrix, idf_vector   "
   ]
  },
  {
   "cell_type": "code",
   "execution_count": 45,
   "metadata": {},
   "outputs": [],
   "source": [
    "tf_idf_matrix, idf_vector = tf_idf(term_doc_matrix)"
   ]
  },
  {
   "cell_type": "code",
   "execution_count": 46,
   "metadata": {},
   "outputs": [],
   "source": [
    "def cosine(doc1,doc2):\n",
    "    \"\"\" Computes cosine similarity between two vectors\n",
    "        \n",
    "    this function takes in two document vectors and computes cosine similarity between them\n",
    "    when any of the vectors contains only zeros, their similarity is unknown (no common words)\n",
    "    your function should output -inf\n",
    "    \n",
    "    Parameters\n",
    "    ----------\n",
    "    doc1 : numpy array\n",
    "        the first document vector \n",
    "    doc2 : numpy array  \n",
    "        the second document vector \n",
    "    \n",
    "    Returns\n",
    "    -------\n",
    "    score : float \n",
    "        cosine similarity\n",
    "    \"\"\"\n",
    "    infinity = float('-inf')\n",
    "\n",
    "    if np.all(doc1==0) or np.all(doc2==0):\n",
    "        return infinity\n",
    "    above = np.dot(doc2, doc1)\n",
    "    root1 = np.sqrt(np.sum([x**2 for x in doc1]))\n",
    "    root2 = np.sqrt(np.sum([x**2 for x in doc2]))\n",
    "    score = above /( root1 * root2)\n",
    "    return score"
   ]
  },
  {
   "cell_type": "code",
   "execution_count": 48,
   "metadata": {},
   "outputs": [
    {
     "name": "stdout",
     "output_type": "stream",
     "text": [
      "[[0.74716133 0.         0.         ... 0.         0.         0.        ]\n",
      " [0.         0.         0.         ... 0.         0.         0.        ]\n",
      " [0.         0.         0.         ... 0.         0.         0.        ]\n",
      " ...\n",
      " [0.         0.         0.         ... 0.         0.         0.        ]\n",
      " [0.         0.         0.         ... 0.         0.         0.        ]\n",
      " [0.         0.         0.         ... 0.         0.         0.        ]]\n"
     ]
    }
   ],
   "source": [
    "print(tf_idf_matrix)"
   ]
  }
 ],
 "metadata": {
  "interpreter": {
   "hash": "aee8b7b246df8f9039afb4144a1f6fd8d2ca17a180786b69acc140d282b71a49"
  },
  "kernelspec": {
   "display_name": "Python 3.9.12 64-bit",
   "language": "python",
   "name": "python3"
  },
  "language_info": {
   "codemirror_mode": {
    "name": "ipython",
    "version": 3
   },
   "file_extension": ".py",
   "mimetype": "text/x-python",
   "name": "python",
   "nbconvert_exporter": "python",
   "pygments_lexer": "ipython3",
   "version": "3.9.12"
  },
  "orig_nbformat": 4
 },
 "nbformat": 4,
 "nbformat_minor": 2
}
