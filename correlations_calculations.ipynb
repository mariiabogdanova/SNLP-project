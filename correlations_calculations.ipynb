{
 "cells": [
  {
   "cell_type": "code",
   "execution_count": 1,
   "id": "216db687",
   "metadata": {},
   "outputs": [],
   "source": [
    "import numpy as np\n",
    "import pandas as pd\n",
    "import scipy.stats"
   ]
  },
  {
   "cell_type": "code",
   "execution_count": 2,
   "id": "1b7390d3",
   "metadata": {},
   "outputs": [
    {
     "data": {
      "text/html": [
       "<div>\n",
       "<style scoped>\n",
       "    .dataframe tbody tr th:only-of-type {\n",
       "        vertical-align: middle;\n",
       "    }\n",
       "\n",
       "    .dataframe tbody tr th {\n",
       "        vertical-align: top;\n",
       "    }\n",
       "\n",
       "    .dataframe thead th {\n",
       "        text-align: right;\n",
       "    }\n",
       "</style>\n",
       "<table border=\"1\" class=\"dataframe\">\n",
       "  <thead>\n",
       "    <tr style=\"text-align: right;\">\n",
       "      <th></th>\n",
       "      <th>Document_1</th>\n",
       "      <th>Document_2</th>\n",
       "      <th>Similarity_avg</th>\n",
       "      <th>Similarity_avg_normalized</th>\n",
       "      <th>Similarity_word2vec</th>\n",
       "      <th>Similarity_doc2vec</th>\n",
       "      <th>Similarity_tf_idf</th>\n",
       "      <th>Similarities_SBERT</th>\n",
       "    </tr>\n",
       "  </thead>\n",
       "  <tbody>\n",
       "    <tr>\n",
       "      <th>0</th>\n",
       "      <td>1</td>\n",
       "      <td>2</td>\n",
       "      <td>1.5</td>\n",
       "      <td>0.125</td>\n",
       "      <td>0.546141</td>\n",
       "      <td>0.299788</td>\n",
       "      <td>0.021084</td>\n",
       "      <td>0.226575</td>\n",
       "    </tr>\n",
       "    <tr>\n",
       "      <th>1</th>\n",
       "      <td>1</td>\n",
       "      <td>3</td>\n",
       "      <td>1.2</td>\n",
       "      <td>0.050</td>\n",
       "      <td>0.756276</td>\n",
       "      <td>0.422498</td>\n",
       "      <td>0.004666</td>\n",
       "      <td>0.249689</td>\n",
       "    </tr>\n",
       "    <tr>\n",
       "      <th>2</th>\n",
       "      <td>1</td>\n",
       "      <td>4</td>\n",
       "      <td>1.0</td>\n",
       "      <td>0.000</td>\n",
       "      <td>0.602858</td>\n",
       "      <td>0.309068</td>\n",
       "      <td>0.028945</td>\n",
       "      <td>0.231258</td>\n",
       "    </tr>\n",
       "    <tr>\n",
       "      <th>3</th>\n",
       "      <td>1</td>\n",
       "      <td>5</td>\n",
       "      <td>1.5</td>\n",
       "      <td>0.125</td>\n",
       "      <td>0.645505</td>\n",
       "      <td>0.359952</td>\n",
       "      <td>0.001599</td>\n",
       "      <td>0.160115</td>\n",
       "    </tr>\n",
       "    <tr>\n",
       "      <th>4</th>\n",
       "      <td>1</td>\n",
       "      <td>6</td>\n",
       "      <td>2.5</td>\n",
       "      <td>0.375</td>\n",
       "      <td>0.640220</td>\n",
       "      <td>0.396535</td>\n",
       "      <td>0.013378</td>\n",
       "      <td>0.189578</td>\n",
       "    </tr>\n",
       "  </tbody>\n",
       "</table>\n",
       "</div>"
      ],
      "text/plain": [
       "   Document_1  Document_2  Similarity_avg  Similarity_avg_normalized  \\\n",
       "0           1           2             1.5                      0.125   \n",
       "1           1           3             1.2                      0.050   \n",
       "2           1           4             1.0                      0.000   \n",
       "3           1           5             1.5                      0.125   \n",
       "4           1           6             2.5                      0.375   \n",
       "\n",
       "   Similarity_word2vec  Similarity_doc2vec  Similarity_tf_idf  \\\n",
       "0             0.546141            0.299788           0.021084   \n",
       "1             0.756276            0.422498           0.004666   \n",
       "2             0.602858            0.309068           0.028945   \n",
       "3             0.645505            0.359952           0.001599   \n",
       "4             0.640220            0.396535           0.013378   \n",
       "\n",
       "   Similarities_SBERT  \n",
       "0            0.226575  \n",
       "1            0.249689  \n",
       "2            0.231258  \n",
       "3            0.160115  \n",
       "4            0.189578  "
      ]
     },
     "execution_count": 2,
     "metadata": {},
     "output_type": "execute_result"
    }
   ],
   "source": [
    "human_evaluation_data = pd.read_csv(\"Data/AverageSimilarities_fixed.csv\")\n",
    "human_evaluation_data.head()"
   ]
  },
  {
   "cell_type": "code",
   "execution_count": 3,
   "id": "40bf5a98",
   "metadata": {},
   "outputs": [
    {
     "data": {
      "text/plain": [
       "0.566755677655724"
      ]
     },
     "execution_count": 3,
     "metadata": {},
     "output_type": "execute_result"
    }
   ],
   "source": [
    "scipy.stats.pearsonr(human_evaluation_data.Similarity_avg, human_evaluation_data.Similarity_tf_idf)[0]"
   ]
  },
  {
   "cell_type": "code",
   "execution_count": 4,
   "id": "814a0577",
   "metadata": {},
   "outputs": [
    {
     "data": {
      "text/plain": [
       "0.6116588718627732"
      ]
     },
     "execution_count": 4,
     "metadata": {},
     "output_type": "execute_result"
    }
   ],
   "source": [
    "scipy.stats.pearsonr(human_evaluation_data.Similarity_avg, human_evaluation_data.Similarity_word2vec)[0]"
   ]
  },
  {
   "cell_type": "code",
   "execution_count": 5,
   "id": "61fff19b",
   "metadata": {},
   "outputs": [
    {
     "data": {
      "text/plain": [
       "0.6257019867221739"
      ]
     },
     "execution_count": 5,
     "metadata": {},
     "output_type": "execute_result"
    }
   ],
   "source": [
    "scipy.stats.pearsonr(human_evaluation_data.Similarity_avg, human_evaluation_data.Similarity_doc2vec)[0]"
   ]
  },
  {
   "cell_type": "code",
   "execution_count": 6,
   "id": "b62dfab5",
   "metadata": {},
   "outputs": [
    {
     "data": {
      "text/plain": [
       "0.6598493561318133"
      ]
     },
     "execution_count": 6,
     "metadata": {},
     "output_type": "execute_result"
    }
   ],
   "source": [
    "scipy.stats.pearsonr(human_evaluation_data.Similarity_avg, human_evaluation_data.Similarities_SBERT)[0]"
   ]
  }
 ],
 "metadata": {
  "kernelspec": {
   "display_name": "Python 3",
   "language": "python",
   "name": "python3"
  },
  "language_info": {
   "codemirror_mode": {
    "name": "ipython",
    "version": 3
   },
   "file_extension": ".py",
   "mimetype": "text/x-python",
   "name": "python",
   "nbconvert_exporter": "python",
   "pygments_lexer": "ipython3",
   "version": "3.8.10"
  }
 },
 "nbformat": 4,
 "nbformat_minor": 5
}
