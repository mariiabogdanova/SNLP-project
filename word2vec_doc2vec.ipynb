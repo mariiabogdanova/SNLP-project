{
 "cells": [
  {
   "cell_type": "code",
   "execution_count": 1,
   "id": "954117be",
   "metadata": {},
   "outputs": [
    {
     "name": "stderr",
     "output_type": "stream",
     "text": [
      "[nltk_data] Downloading package punkt to\n",
      "[nltk_data]     /Users/mariiabogdanova/nltk_data...\n",
      "[nltk_data]   Package punkt is already up-to-date!\n"
     ]
    }
   ],
   "source": [
    "import pandas as pd\n",
    "import numpy as np\n",
    "\n",
    "from sklearn.feature_extraction.text import TfidfVectorizer \n",
    "from sklearn.metrics.pairwise import cosine_similarity\n",
    "\n",
    "import nltk\n",
    "import re\n",
    "import gensim\n",
    "import pickle\n",
    "from nltk.corpus import stopwords\n",
    "from nltk.tokenize import word_tokenize\n",
    "nltk.download('punkt')\n",
    "from gensim.models.doc2vec import Doc2Vec, TaggedDocument\n",
    "\n",
    "from keras.preprocessing.text import Tokenizer\n",
    "from keras.preprocessing.sequence import pad_sequences"
   ]
  },
  {
   "cell_type": "code",
   "execution_count": 2,
   "id": "43c99a04",
   "metadata": {},
   "outputs": [],
   "source": [
    "CLEANFILE = \"./Data/cleanLPW.txt\"\n",
    "\n",
    "documents = []\n",
    "with open(CLEANFILE, 'r', encoding=\"utf8\", errors=\"ignore\") as inputfile:\n",
    "    lines = inputfile.readlines()\n",
    "    for line in lines[1:-1]:\n",
    "        documents.append(line)"
   ]
  },
  {
   "cell_type": "markdown",
   "id": "3780114c",
   "metadata": {
    "tags": []
   },
   "source": [
    "# Document Similarity: word2vec"
   ]
  },
  {
   "cell_type": "code",
   "execution_count": 3,
   "id": "449c5007",
   "metadata": {},
   "outputs": [
    {
     "data": {
      "text/html": [
       "<div>\n",
       "<style scoped>\n",
       "    .dataframe tbody tr th:only-of-type {\n",
       "        vertical-align: middle;\n",
       "    }\n",
       "\n",
       "    .dataframe tbody tr th {\n",
       "        vertical-align: top;\n",
       "    }\n",
       "\n",
       "    .dataframe thead th {\n",
       "        text-align: right;\n",
       "    }\n",
       "</style>\n",
       "<table border=\"1\" class=\"dataframe\">\n",
       "  <thead>\n",
       "    <tr style=\"text-align: right;\">\n",
       "      <th></th>\n",
       "      <th>documents</th>\n",
       "      <th>documents_cleaned</th>\n",
       "    </tr>\n",
       "  </thead>\n",
       "  <tbody>\n",
       "    <tr>\n",
       "      <th>0</th>\n",
       "      <td>The national executive of the strife-torn Demo...</td>\n",
       "      <td>national executive strife torn democrats last ...</td>\n",
       "    </tr>\n",
       "    <tr>\n",
       "      <th>1</th>\n",
       "      <td>Cash-strapped financial services group AMP has...</td>\n",
       "      <td>cash strapped financial services group amp she...</td>\n",
       "    </tr>\n",
       "    <tr>\n",
       "      <th>2</th>\n",
       "      <td>The United States government has said it wants...</td>\n",
       "      <td>united states government said wants see presid...</td>\n",
       "    </tr>\n",
       "    <tr>\n",
       "      <th>3</th>\n",
       "      <td>A radical armed Islamist group with ties to Te...</td>\n",
       "      <td>radical armed islamist group ties tehran baghd...</td>\n",
       "    </tr>\n",
       "    <tr>\n",
       "      <th>4</th>\n",
       "      <td>Washington has sharply rebuked Russia over bom...</td>\n",
       "      <td>washington sharply rebuked russia bombings geo...</td>\n",
       "    </tr>\n",
       "  </tbody>\n",
       "</table>\n",
       "</div>"
      ],
      "text/plain": [
       "                                           documents  \\\n",
       "0  The national executive of the strife-torn Demo...   \n",
       "1  Cash-strapped financial services group AMP has...   \n",
       "2  The United States government has said it wants...   \n",
       "3  A radical armed Islamist group with ties to Te...   \n",
       "4  Washington has sharply rebuked Russia over bom...   \n",
       "\n",
       "                                   documents_cleaned  \n",
       "0  national executive strife torn democrats last ...  \n",
       "1  cash strapped financial services group amp she...  \n",
       "2  united states government said wants see presid...  \n",
       "3  radical armed islamist group ties tehran baghd...  \n",
       "4  washington sharply rebuked russia bombings geo...  "
      ]
     },
     "execution_count": 3,
     "metadata": {},
     "output_type": "execute_result"
    }
   ],
   "source": [
    "documents_df = pd.DataFrame(documents,columns=['documents'])\n",
    "\n",
    "# removing special characters and stop words from the text\n",
    "\n",
    "stopwords_list = stopwords.words('english')\n",
    "documents_df['documents_cleaned'] = documents_df.documents.apply(lambda x: \" \".join(re.sub(r'[^a-zA-Z]',' ',w).lower() for w in x.split() if re.sub(r'[^a-zA-Z]',' ',w).lower() not in stopwords_list) )\n",
    "documents_df.head(5)"
   ]
  },
  {
   "cell_type": "code",
   "execution_count": 4,
   "id": "648c90ee",
   "metadata": {},
   "outputs": [],
   "source": [
    "tfidfvectoriser = TfidfVectorizer(max_features = 64)\n",
    "tfidfvectoriser.fit(documents_df.documents_cleaned)\n",
    "tfidf_vectors = tfidfvectoriser.transform(documents_df.documents_cleaned)\n",
    "tfidf_vectors = tfidf_vectors.toarray()"
   ]
  },
  {
   "cell_type": "code",
   "execution_count": 5,
   "id": "a7c24329",
   "metadata": {},
   "outputs": [
    {
     "name": "stdout",
     "output_type": "stream",
     "text": [
      "[190  60 424 425  37   4  19 191 192 426 193  27  14 194  93  94  20 427\n",
      "  95 428 429 430  10   1  96 431  95 432 195  10   1  61  96 190  60   4\n",
      "  19 196 197  97   1 198 199  94  20 200  14  93 433 434  20  98  99 100\n",
      " 435 201 202 436   0   0   0   0   0   0]\n"
     ]
    }
   ],
   "source": [
    "# tokenize and pad every document to make them of the same size\n",
    "tokenizer = Tokenizer()\n",
    "tokenizer.fit_on_texts(documents_df.documents_cleaned)\n",
    "tokenized_documents = tokenizer.texts_to_sequences(documents_df.documents_cleaned)\n",
    "tokenized_paded_documents = pad_sequences(tokenized_documents,maxlen = 64,padding = 'post')\n",
    "vocab_size = len(tokenizer.word_index)+1\n",
    "\n",
    "print(tokenized_paded_documents[0])"
   ]
  },
  {
   "cell_type": "code",
   "execution_count": 8,
   "id": "4ff6dca4",
   "metadata": {},
   "outputs": [],
   "source": [
    "W2V_PATH = \"Binaries/GoogleNews-vectors-negative300.bin.gz\"\n",
    "model_w2v = gensim.models.KeyedVectors.load_word2vec_format(W2V_PATH, binary=True)"
   ]
  },
  {
   "cell_type": "code",
   "execution_count": 9,
   "id": "020c115a",
   "metadata": {},
   "outputs": [
    {
     "name": "stderr",
     "output_type": "stream",
     "text": [
      "/Users/mariiabogdanova/miniconda3/lib/python3.8/site-packages/sklearn/utils/deprecation.py:87: FutureWarning: Function get_feature_names is deprecated; get_feature_names is deprecated in 1.0 and will be removed in 1.2. Please use get_feature_names_out instead.\n",
      "  warnings.warn(msg, category=FutureWarning)\n"
     ]
    }
   ],
   "source": [
    "embedding_matrix = np.zeros((vocab_size,300))\n",
    "for word,i in tokenizer.word_index.items():\n",
    "    if word in model_w2v:\n",
    "        embedding_matrix[i] = model_w2v[word]\n",
    "        \n",
    "# creating document-word embeddings\n",
    "document_word_embeddings = np.zeros((len(tokenized_paded_documents),64,300))\n",
    "\n",
    "for i in range(len(tokenized_paded_documents)):\n",
    "    for j in range(len(tokenized_paded_documents[0])):\n",
    "        document_word_embeddings[i][j] = embedding_matrix[tokenized_paded_documents[i][j]]\n",
    "        \n",
    "# tf-idf vectors do not keep the original sequence of words, converting them into actual word sequences from the documents\n",
    "document_embeddings = np.zeros((len(tokenized_paded_documents),300))\n",
    "words = tfidfvectoriser.get_feature_names()\n",
    "\n",
    "for i in range(len(document_word_embeddings)):\n",
    "    for j in range(len(words)):\n",
    "        document_embeddings[i] += embedding_matrix[tokenizer.word_index[words[j]]]*tfidf_vectors[i][j]\n",
    "        \n",
    "document_embeddings_word2vec = document_embeddings/np.sum(tfidf_vectors,axis=1).reshape(-1,1)\n",
    "    "
   ]
  },
  {
   "cell_type": "code",
   "execution_count": 10,
   "id": "904aca7d",
   "metadata": {},
   "outputs": [],
   "source": [
    "pairwise_similarities_word2vec = cosine_similarity(document_embeddings_word2vec)"
   ]
  },
  {
   "cell_type": "markdown",
   "id": "8d5df42d",
   "metadata": {},
   "source": [
    "# Document Similarity: doc2vec"
   ]
  },
  {
   "cell_type": "code",
   "execution_count": 17,
   "id": "47a97147",
   "metadata": {},
   "outputs": [
    {
     "name": "stderr",
     "output_type": "stream",
     "text": [
      "<ipython-input-17-2999ae2f9c8b>:11: DeprecationWarning: Call to deprecated `docvecs` (The `docvecs` property has been renamed `dv`.).\n",
      "  document_embeddings_doc2vec[i] = model_d2v.docvecs[i]\n"
     ]
    }
   ],
   "source": [
    "tagged_data = [TaggedDocument(words = word_tokenize(doc), tags = [i]) for i, doc in enumerate(documents_df.documents_cleaned)]\n",
    "\n",
    "model_d2v = Doc2Vec(vector_size = 100, alpha = 0.025, min_count=1)\n",
    "model_d2v.build_vocab(tagged_data)\n",
    "\n",
    "for epoch in range(100):\n",
    "    model_d2v.train(tagged_data, total_examples = model_d2v.corpus_count, epochs = model_d2v.epochs)\n",
    "\n",
    "document_embeddings_doc2vec = np.zeros((documents_df.shape[0],100))\n",
    "for i in range(len(document_embeddings)):\n",
    "    document_embeddings_doc2vec[i] = model_d2v.docvecs[i]"
   ]
  },
  {
   "cell_type": "code",
   "execution_count": 18,
   "id": "9629e3d2",
   "metadata": {},
   "outputs": [],
   "source": [
    "pairwise_similarities_doc2vec = cosine_similarity(document_embeddings_doc2vec)"
   ]
  },
  {
   "cell_type": "code",
   "execution_count": 26,
   "id": "fe9ba9cc",
   "metadata": {},
   "outputs": [
    {
     "data": {
      "text/html": [
       "<div>\n",
       "<style scoped>\n",
       "    .dataframe tbody tr th:only-of-type {\n",
       "        vertical-align: middle;\n",
       "    }\n",
       "\n",
       "    .dataframe tbody tr th {\n",
       "        vertical-align: top;\n",
       "    }\n",
       "\n",
       "    .dataframe thead th {\n",
       "        text-align: right;\n",
       "    }\n",
       "</style>\n",
       "<table border=\"1\" class=\"dataframe\">\n",
       "  <thead>\n",
       "    <tr style=\"text-align: right;\">\n",
       "      <th></th>\n",
       "      <th>Document_1</th>\n",
       "      <th>Document_2</th>\n",
       "      <th>Similarity_avg</th>\n",
       "      <th>Similarity_avg_normalized</th>\n",
       "      <th>Similarity_word2vec</th>\n",
       "      <th>Similarity_doc2vec</th>\n",
       "    </tr>\n",
       "  </thead>\n",
       "  <tbody>\n",
       "    <tr>\n",
       "      <th>0</th>\n",
       "      <td>1</td>\n",
       "      <td>2</td>\n",
       "      <td>1.5</td>\n",
       "      <td>0.125</td>\n",
       "      <td>0.180031</td>\n",
       "      <td>0.555623</td>\n",
       "    </tr>\n",
       "    <tr>\n",
       "      <th>1</th>\n",
       "      <td>1</td>\n",
       "      <td>3</td>\n",
       "      <td>1.2</td>\n",
       "      <td>0.050</td>\n",
       "      <td>0.539598</td>\n",
       "      <td>0.457707</td>\n",
       "    </tr>\n",
       "    <tr>\n",
       "      <th>2</th>\n",
       "      <td>1</td>\n",
       "      <td>4</td>\n",
       "      <td>1.0</td>\n",
       "      <td>0.000</td>\n",
       "      <td>0.274001</td>\n",
       "      <td>0.371471</td>\n",
       "    </tr>\n",
       "    <tr>\n",
       "      <th>3</th>\n",
       "      <td>1</td>\n",
       "      <td>5</td>\n",
       "      <td>1.5</td>\n",
       "      <td>0.125</td>\n",
       "      <td>0.392110</td>\n",
       "      <td>0.492497</td>\n",
       "    </tr>\n",
       "    <tr>\n",
       "      <th>4</th>\n",
       "      <td>1</td>\n",
       "      <td>6</td>\n",
       "      <td>2.5</td>\n",
       "      <td>0.375</td>\n",
       "      <td>0.252046</td>\n",
       "      <td>0.475827</td>\n",
       "    </tr>\n",
       "    <tr>\n",
       "      <th>5</th>\n",
       "      <td>1</td>\n",
       "      <td>7</td>\n",
       "      <td>1.3</td>\n",
       "      <td>0.075</td>\n",
       "      <td>0.328520</td>\n",
       "      <td>0.403943</td>\n",
       "    </tr>\n",
       "    <tr>\n",
       "      <th>6</th>\n",
       "      <td>1</td>\n",
       "      <td>8</td>\n",
       "      <td>1.2</td>\n",
       "      <td>0.050</td>\n",
       "      <td>0.356765</td>\n",
       "      <td>0.337916</td>\n",
       "    </tr>\n",
       "    <tr>\n",
       "      <th>7</th>\n",
       "      <td>1</td>\n",
       "      <td>9</td>\n",
       "      <td>1.0</td>\n",
       "      <td>0.000</td>\n",
       "      <td>0.464222</td>\n",
       "      <td>0.571818</td>\n",
       "    </tr>\n",
       "    <tr>\n",
       "      <th>8</th>\n",
       "      <td>1</td>\n",
       "      <td>10</td>\n",
       "      <td>1.3</td>\n",
       "      <td>0.075</td>\n",
       "      <td>0.308338</td>\n",
       "      <td>0.355044</td>\n",
       "    </tr>\n",
       "    <tr>\n",
       "      <th>9</th>\n",
       "      <td>1</td>\n",
       "      <td>11</td>\n",
       "      <td>1.3</td>\n",
       "      <td>0.075</td>\n",
       "      <td>0.340231</td>\n",
       "      <td>0.356450</td>\n",
       "    </tr>\n",
       "  </tbody>\n",
       "</table>\n",
       "</div>"
      ],
      "text/plain": [
       "   Document_1  Document_2  Similarity_avg  Similarity_avg_normalized  \\\n",
       "0           1           2             1.5                      0.125   \n",
       "1           1           3             1.2                      0.050   \n",
       "2           1           4             1.0                      0.000   \n",
       "3           1           5             1.5                      0.125   \n",
       "4           1           6             2.5                      0.375   \n",
       "5           1           7             1.3                      0.075   \n",
       "6           1           8             1.2                      0.050   \n",
       "7           1           9             1.0                      0.000   \n",
       "8           1          10             1.3                      0.075   \n",
       "9           1          11             1.3                      0.075   \n",
       "\n",
       "   Similarity_word2vec  Similarity_doc2vec  \n",
       "0             0.180031            0.555623  \n",
       "1             0.539598            0.457707  \n",
       "2             0.274001            0.371471  \n",
       "3             0.392110            0.492497  \n",
       "4             0.252046            0.475827  \n",
       "5             0.328520            0.403943  \n",
       "6             0.356765            0.337916  \n",
       "7             0.464222            0.571818  \n",
       "8             0.308338            0.355044  \n",
       "9             0.340231            0.356450  "
      ]
     },
     "execution_count": 26,
     "metadata": {},
     "output_type": "execute_result"
    }
   ],
   "source": [
    "# Saving scores to csv\n",
    "human_evaluation_data = pd.read_csv(\"Data/AverageSimilarities.csv\")\n",
    "human_evaluation_data[\"Similarity_word2vec\"] = pairwise_similarities_word2vec[human_evaluation_data.Document_1-1, human_evaluation_data.Document_2-1]\n",
    "human_evaluation_data[\"Similarity_doc2vec\"] = pairwise_similarities_doc2vec[human_evaluation_data.Document_1-1, human_evaluation_data.Document_2-1]\n",
    "human_evaluation_data.head(5)\n",
    "\n",
    "human_evaluation_data.to_csv('Data/AverageSimilarities.csv', index=False)\n",
    "human_evaluation_data.head(10)\n"
   ]
  },
  {
   "cell_type": "code",
   "execution_count": null,
   "id": "2cd91e63",
   "metadata": {},
   "outputs": [],
   "source": []
  }
 ],
 "metadata": {
  "kernelspec": {
   "display_name": "Python 3",
   "language": "python",
   "name": "python3"
  },
  "language_info": {
   "codemirror_mode": {
    "name": "ipython",
    "version": 3
   },
   "file_extension": ".py",
   "mimetype": "text/x-python",
   "name": "python",
   "nbconvert_exporter": "python",
   "pygments_lexer": "ipython3",
   "version": "3.8.10"
  }
 },
 "nbformat": 4,
 "nbformat_minor": 5
}
